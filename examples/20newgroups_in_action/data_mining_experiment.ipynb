{
 "cells": [
  {
   "cell_type": "code",
   "execution_count": 158,
   "metadata": {},
   "outputs": [],
   "source": [
    "import numpy as np\n",
    "import pandas as pd\n",
    "from tqdm import tqdm\n",
    "import matplotlib.pyplot as plt\n",
    "import seaborn as sns\n",
    "import jsonlines\n",
    "from w3lib.html import remove_tags\n",
    "import pickle"
   ]
  },
  {
   "cell_type": "markdown",
   "metadata": {},
   "source": [
    "##  1. Loading Dataset (20 newsgroups dataset)"
   ]
  },
  {
   "cell_type": "code",
   "execution_count": 175,
   "metadata": {},
   "outputs": [
    {
     "data": {
      "text/plain": [
       "array([7, 4, 4, ..., 3, 1, 8])"
      ]
     },
     "execution_count": 175,
     "metadata": {},
     "output_type": "execute_result"
    }
   ],
   "source": [
    "from sklearn.datasets import fetch_20newsgroups\n",
    "\n",
    "train_set = fetch_20newsgroups(subset='train', shuffle=True, random_state=42)\n",
    "\n",
    "train_set.target"
   ]
  },
  {
   "cell_type": "markdown",
   "metadata": {},
   "source": [
    "## 1. Loading News Dataset"
   ]
  },
  {
   "cell_type": "code",
   "execution_count": 159,
   "metadata": {},
   "outputs": [
    {
     "data": {
      "text/plain": [
       "1721092"
      ]
     },
     "execution_count": 159,
     "metadata": {},
     "output_type": "execute_result"
    }
   ],
   "source": [
    "base_path = '/Github/Machine-Learning-in-Action/examples/news_data_generator/news_data_generator/spiders/'\n",
    "file_name = 'timesall.jl'\n",
    "data_path = base_path + file_name\n",
    "\n",
    "news = []\n",
    "with open(data_path, \"r+\", encoding=\"utf8\") as f:\n",
    "    for item in jsonlines.Reader(f):\n",
    "        news.append(item)\n",
    "len(news)"
   ]
  },
  {
   "cell_type": "code",
   "execution_count": 210,
   "metadata": {},
   "outputs": [
    {
     "name": "stdout",
     "output_type": "stream",
     "text": [
      "10\n",
      "{'url': 'http://www.globaltimes.cn/content/18.shtml', 'title': [' Cemetery plot prices soar in Beijing '], 'info': [' Source:Global Times Published: 2011-4-17 18:44:36 '], 'module': ['LIFE'], 'type': [], 'content': ['<div class=\"row-fluid\">\\n                <div class=\"span12 row-content\">\\n                \\tCemetery plot prices soar in Beijing<br>\\n                        \\n                        \\n                </div>\\n            </div>']}\n",
      "{'url': 'http://www.globaltimes.cn/content/15.shtml', 'title': [' Foreign invasion '], 'info': [' Source:Global Times Published: 2011-4-17 18:41:07 '], 'module': ['LIFE'], 'type': [], 'content': ['<div class=\"row-fluid\">\\n                <div class=\"span12 row-content\">\\n                \\tForeign invasion<br>\\n                        \\n                        \\n                </div>\\n            </div>']}\n",
      "{'url': 'http://www.globaltimes.cn/content/11.shtml', 'title': [\" Jesus' Crucifixion Nails Found, Says Israeli Filmmaker \"], 'info': [' Source:Global Times Published: 2011-4-17 18:15:10 '], 'module': ['CHINA'], 'type': [], 'content': ['<div class=\"row-fluid\">\\n                <div class=\"span12 row-content\">\\n                \\tAn Israeli TV journalist examines two nails found in an ancient grave site and comes up with a speculative theory about how they could have been used in a historic execution.\\xa0<br>\\n                        \\n                        \\n                </div>\\n            </div>']}\n",
      "{'url': 'http://www.globaltimes.cn/content/14.shtml', 'title': [' Circle of violence weakens AU roadmap '], 'info': [' Source:Global Times Published: 2011-4-17 18:32:52 '], 'module': ['WORLD'], 'type': [], 'content': ['<div class=\"row-fluid\">\\n                <div class=\"span12 row-content\">\\n                \\tForces loyal to Muammar Gaddafi on Tuesday continued their bombardment of the town of Ajdabiya in eastern Libya and Misrata, the only major city partially held by rebels in western Libya, after the opposition rejected an African Union ceasefire plan.<br>\\r\\n<br>\\r\\nForces loyal to Muammar Gaddafi on Tuesday continued their bombardment of the town of Ajdabiya in eastern Libya and Misrata, the only major city partially held by rebels in western Libya, after the opposition rejected an African Union ceasefire plan.<br>\\r\\n<br>\\r\\nForces loyal to Muammar Gaddafi on Tuesday continued their bombardment of the town of Ajdabiya in eastern Libya and Misrata, the only major city partially held by rebels in western Libya, after the opposition rejected an African Union ceasefire plan.<br>\\r\\n<br>\\r\\nForces loyal to Muammar Gaddafi on Tuesday continued their bombardment of the town of Ajdabiya in eastern Libya and Misrata, the only major city partially held by rebels in western Libya, after the opposition rejected an African Union ceasefire plan.<br>\\r\\n<br>\\r\\nForces loyal to Muammar Gaddafi on Tuesday continued their bombardment of the town of Ajdabiya in eastern Libya and Misrata, the only major city partially held by rebels in western Libya, after the opposition rejected an African Union ceasefire plan.<br>\\r\\n<br>\\r\\nForces loyal to Muammar Gaddafi on Tuesday continued their bombardment of the town of Ajdabiya in eastern Libya and Misrata, the only major city partially held by rebels in western Libya, after the opposition rejected an African Union ceasefire plan.<br>\\n                        \\n                        \\n                </div>\\n            </div>']}\n",
      "{'url': 'http://www.globaltimes.cn/content/16.shtml', 'title': [' Just like James Bond '], 'info': [' Source:Global Times Published: 2011-4-17 18:42:06 '], 'module': ['LIFE'], 'type': [], 'content': ['<div class=\"row-fluid\">\\n                <div class=\"span12 row-content\">\\n                \\tJust like James Bond<br>\\n                        \\n                        \\n                </div>\\n            </div>']}\n",
      "{'url': 'http://www.globaltimes.cn/content/17.shtml', 'title': [' Shanghai Disneyland to start construction '], 'info': [' Source:Global Times Published: 2011-4-17 18:43:40 '], 'module': ['LIFE'], 'type': [], 'content': ['<div class=\"row-fluid\">\\n                <div class=\"span12 row-content\">\\n                \\tShanghai Disneyland to start construction<br>\\n                        \\n                        \\n                </div>\\n            </div>']}\n",
      "{'url': 'http://www.globaltimes.cn/content/10.shtml', 'title': [' TEPCO still working on plan to end Japan nuclear crisis '], 'info': [' Source: Published: 2011-4-17 18:14:29 '], 'module': ['CHINA'], 'type': [], 'content': ['<div class=\"row-fluid\">\\n                <div class=\"span12 row-content\">\\n                \\tTOKYO (Reuters) - The operator of Japan\\'s crippled nuclear plant said Wednesday it was still working on a detailed plan to end the country\\'s nuclear crisis a month after it began, as tests showed radiation levels in the sea near the complex had spiked.<br>\\n                        \\n                        \\n                </div>\\n            </div>']}\n",
      "{'url': 'http://www.globaltimes.cn/content/6.shtml', 'title': [' PhotoNews1 '], 'info': [' Source:Global Times Published: 2011-4-15 21:38:29 '], 'module': ['PHOTOS'], 'type': [], 'content': ['<div class=\"row-fluid\">\\n                <div class=\"span12 row-content\">\\n                \\tPhotoNews1<br>\\n                        \\n                        \\n                </div>\\n            </div>']}\n",
      "{'url': 'http://www.globaltimes.cn/content/8.shtml', 'title': [' Mega-rich from Shaanxi occupy 71% of NW China '], 'info': [' Source:Global Times Published: 2011-4-17 12:10:48 '], 'module': ['LIFE'], 'type': [], 'content': ['<div class=\"row-fluid\">\\n                <div class=\"span12 row-content\">\\n                \\tBy the end of 2010, the number of people of at least 10 million yuan ($1.5 million) assets in Shaanxi Province had reached 13,000, increases 2000 in number from 2009, occupies 71 percent of millionaires in the northwest region of China.<br>\\n                        \\n                        \\n                </div>\\n            </div>']}\n",
      "{'url': 'http://www.globaltimes.cn/content/7.shtml', 'title': [' if you snooze, you lose home / quarreling  '], 'info': [' Source: Published: 2011-4-17 11:57:16 '], 'module': [], 'type': [], 'content': ['<div class=\"row-fluid\">\\n                <div class=\"span12 row-content\">\\n                \\t<p>：嘿！蛋糕都哪儿去了？<br>\\r\\nHey！where did all the cake go？</p>\\r\\n<p>：你是说那些吃剩下的蛋糕？<br>\\r\\n\\xa0you mean the leftover cake？</p>\\r\\n<p>：废话！我还一点儿都没吃就没影儿了？<br>\\r\\n\\xa0Duh!haven\\'t had any and it\\'s gone?</p><br>\\n                        \\n                        \\n                </div>\\n            </div>']}\n"
     ]
    }
   ],
   "source": [
    "## 小数据集用作测试\n",
    "test = news[:2000]\n",
    "print(len(test))"
   ]
  },
  {
   "cell_type": "code",
   "execution_count": null,
   "metadata": {},
   "outputs": [],
   "source": [
    "from functools import reduce\n",
    "\n",
    "def list_dict_duplicate_removal(data_list):\n",
    "    run_function = lambda x, y: x if y in x else x + [y]\n",
    "    return reduce(run_function, [[], ] + data_list)\n",
    "\n",
    "news_set = list_dict_duplicate_removal(news)\n",
    "len(news_set)"
   ]
  },
  {
   "cell_type": "code",
   "execution_count": 173,
   "metadata": {},
   "outputs": [
    {
     "data": {
      "text/plain": [
       "{'url': 'http://www.globaltimes.cn/content/18.shtml',\n",
       " 'title': [' Cemetery plot prices soar in Beijing '],\n",
       " 'info': [' Source:Global Times Published: 2011-4-17 18:44:36 '],\n",
       " 'module': ['LIFE'],\n",
       " 'type': [],\n",
       " 'content': ['<div class=\"row-fluid\">\\n                <div class=\"span12 row-content\">\\n                \\tCemetery plot prices soar in Beijing<br>\\n                        \\n                        \\n                </div>\\n            </div>']}"
      ]
     },
     "execution_count": 173,
     "metadata": {},
     "output_type": "execute_result"
    }
   ],
   "source": [
    "news[0]"
   ]
  },
  {
   "cell_type": "code",
   "execution_count": 172,
   "metadata": {},
   "outputs": [
    {
     "data": {
      "text/plain": [
       "'\\n                \\n                \\tForces loyal to Muammar Gaddafi on Tuesday continued their bombardment of the town of Ajdabiya in eastern Libya and Misrata, the only major city partially held by rebels in western Libya, after the opposition rejected an African Union ceasefire plan.\\r\\n\\r\\nForces loyal to Muammar Gaddafi on Tuesday continued their bombardment of the town of Ajdabiya in eastern Libya and Misrata, the only major city partially held by rebels in western Libya, after the opposition rejected an African Union ceasefire plan.\\r\\n\\r\\nForces loyal to Muammar Gaddafi on Tuesday continued their bombardment of the town of Ajdabiya in eastern Libya and Misrata, the only major city partially held by rebels in western Libya, after the opposition rejected an African Union ceasefire plan.\\r\\n\\r\\nForces loyal to Muammar Gaddafi on Tuesday continued their bombardment of the town of Ajdabiya in eastern Libya and Misrata, the only major city partially held by rebels in western Libya, after the opposition rejected an African Union ceasefire plan.\\r\\n\\r\\nForces loyal to Muammar Gaddafi on Tuesday continued their bombardment of the town of Ajdabiya in eastern Libya and Misrata, the only major city partially held by rebels in western Libya, after the opposition rejected an African Union ceasefire plan.\\r\\n\\r\\nForces loyal to Muammar Gaddafi on Tuesday continued their bombardment of the town of Ajdabiya in eastern Libya and Misrata, the only major city partially held by rebels in western Libya, after the opposition rejected an African Union ceasefire plan.\\n                        \\n                        \\n                \\n            '"
      ]
     },
     "execution_count": 172,
     "metadata": {},
     "output_type": "execute_result"
    }
   ],
   "source": [
    "remove_tags(''.join(news[0]['content']))"
   ]
  },
  {
   "cell_type": "code",
   "execution_count": null,
   "metadata": {},
   "outputs": [],
   "source": [
    "X = []\n",
    "y = []\n",
    "for i in news_set:\n",
    "    X.append(i['content'])\n",
    "    y.append(i['module'])"
   ]
  },
  {
   "cell_type": "markdown",
   "metadata": {},
   "source": [
    "## Train Test dataset split"
   ]
  },
  {
   "cell_type": "code",
   "execution_count": null,
   "metadata": {},
   "outputs": [],
   "source": [
    "from sklearn.model_selection import train_test_split\n",
    "\n",
    "X, y = np.arange(10).reshape((5, 2)), range(5)\n",
    "X_train, X_test, y_train, y_test = train_test_split(X, y, test_size=0.5, random_state=42)"
   ]
  },
  {
   "cell_type": "markdown",
   "metadata": {},
   "source": [
    "## 2. Data preprocessing"
   ]
  },
  {
   "cell_type": "markdown",
   "metadata": {},
   "source": [
    "### Data Cleaning:  regular expersion"
   ]
  },
  {
   "cell_type": "code",
   "execution_count": 103,
   "metadata": {},
   "outputs": [
    {
     "name": "stderr",
     "output_type": "stream",
     "text": [
      "  9%|▉         | 1048/11314 [00:00<00:01, 5221.87it/s]"
     ]
    },
    {
     "name": "stdout",
     "output_type": "stream",
     "text": [
      "hello word \n",
      "\n"
     ]
    },
    {
     "name": "stderr",
     "output_type": "stream",
     "text": [
      "100%|██████████| 11314/11314 [00:02<00:00, 5145.03it/s]"
     ]
    },
    {
     "name": "stdout",
     "output_type": "stream",
     "text": [
      "['from lerxstwamumdedu wheres my thing\\nsubject what car is this\\nnntp-posting-host rac3wamumdedu\\norganization university of maryland college park\\nlines 15\\n\\n i was wondering if anyone out there could enlighten me on this car i saw\\nthe other day it was a 2-door sports car looked to be from the late 60s\\nearly 70s it was called a bricklin the doors were really small in addition\\nthe front bumper was separate from the rest of the body this is \\nall i know if anyone can tellme a model name engine specs years\\nof production where this car is made history or whatever info you\\nhave on this funky looking car please e-mail\\n\\nthanks\\n- il\\n   ---- brought to you by your neighborhood lerxst ----\\n\\n\\n\\n\\n']\n"
     ]
    },
    {
     "name": "stderr",
     "output_type": "stream",
     "text": [
      "\n"
     ]
    }
   ],
   "source": [
    "import re\n",
    "\n",
    "# 过滤不了\\\\ \\ 中文（）还有\n",
    "r1 = u'[a-zA-Z0-9’!\"#$%&\\'()*+,-./:;<=>?@，。?★、…【】《》？“”‘’！[\\\\]^_`{|}~]+'  #用户也可以在此进行自定义过滤字符\n",
    "# 者中规则也过滤不完全\n",
    "r2 = \"[\\s+\\.\\!\\/_,$%^*(+\\\"\\']+|[+——！，。？、~@#￥%……&*（）]+\"\n",
    "# \\\\\\可以过滤掉反向单杠和双杠，/可以过滤掉正向单杠和双杠，第一个中括号里放的是英文符号，第二个中括号里放的是中文符号，第二个中括号前不能少|，否则过滤不完全\n",
    "r3 = \"[.!//_,$&%^*()<>+\\\"'?@#-|:~{}]+|[——！\\\\\\\\，。=？、：“”‘’《》【】￥……（）]+\"\n",
    "# 去掉括号和括号内的所有内容\n",
    "r4 = \"\\\\【.*?】+|\\\\《.*?》+|\\\\#.*?#+|[.!/_,$&%^*()<>+\" \"'?@|:~{}#]+|[——！\\\\\\，。=？、：“”‘’￥……（）《》【】]\"\n",
    "\n",
    "sentence = \"hello! wo?rd!. \\n\"\n",
    "cleanr = re.compile('<.*?>') # 匹配HTML标签规则\n",
    "sentence = re.sub(cleanr, ' ', sentence)  # 去除HTML标签\n",
    "sentence = re.sub(r4, '', sentence)\n",
    "print(sentence)\n",
    "\n",
    "for i in tqdm(range(len(train_set.data))):\n",
    "    train_set.data[i] = re.sub(cleanr, ' ', train_set.data[i])\n",
    "    train_set.data[i] = re.sub(r4, '', train_set.data[i])\n",
    "    train_set.data[i] = re.sub('\\n\\r', '', train_set.data[i]) # TODO: 这里并没有去掉\\n\n",
    "    train_set.data[i] = train_set.data[i].lower()\n",
    "print(train_set.data[:1])"
   ]
  },
  {
   "cell_type": "markdown",
   "metadata": {},
   "source": [
    "### Data Cleaning: stop words"
   ]
  },
  {
   "cell_type": "code",
   "execution_count": 121,
   "metadata": {},
   "outputs": [
    {
     "name": "stderr",
     "output_type": "stream",
     "text": [
      "  0%|          | 4/11314 [00:00<04:42, 39.98it/s]"
     ]
    },
    {
     "name": "stdout",
     "output_type": "stream",
     "text": [
      "English Stop Words List：\n",
      " {'about', 'during', 'further', \"hasn't\", 'his', 've', 'd', 'hasn', 'isn', 'll', 'at', 'aren', 'for', 'of', 'was', 'won', \"you've\", 'him', 'some', 'theirs', 'only', 'i', \"wasn't\", 'through', 'until', \"weren't\", 'too', 'mustn', 'himself', 'shouldn', \"wouldn't\", 'few', 'then', \"it's\", 'am', 'below', 'up', 'in', 'an', 'by', 'been', 'own', \"shan't\", 'had', 'above', 'mightn', 'has', 'with', 'very', 'here', 'wouldn', 'but', 'after', 'as', \"you'll\", 'over', 'yourself', 'out', \"that'll\", 'that', 'haven', 'to', 'm', 'same', 'both', 'should', 'needn', 'off', 'he', 'these', 'or', 'they', 'ain', 'wasn', 'why', 'our', \"aren't\", 'having', 's', \"mustn't\", 'yours', 'themselves', 'who', 'are', 'while', 'all', 'were', 'does', 'the', 'doesn', 'any', \"mightn't\", 'a', 'which', 'y', 'just', \"won't\", 'not', 'couldn', 'from', 'under', 'shan', 'is', \"needn't\", \"she's\", 'whom', 'on', 'each', \"haven't\", 'she', 'other', 'such', 'herself', 'ours', \"you're\", 'have', 'did', 'where', 'you', 'being', 'my', 'will', 'ma', 'me', 'nor', 'didn', \"doesn't\", 'o', 'those', 'no', 'ourselves', 'there', 're', 'doing', 'be', \"isn't\", \"you'd\", 't', 'before', 'it', 'them', 'hers', \"hadn't\", 'your', 'don', 'weren', 'so', 'this', 'between', 'into', 'than', 'what', 'myself', 'do', 'hadn', \"shouldn't\", \"don't\", 'its', 'and', 'we', 'because', 'when', \"didn't\", 'against', \"should've\", 'now', 'if', 'down', 'their', 'her', 'more', 'how', 'itself', 'most', 'can', 'again', \"couldn't\", 'yourselves', 'once'}\n"
     ]
    },
    {
     "name": "stderr",
     "output_type": "stream",
     "text": [
      "100%|██████████| 11314/11314 [08:20<00:00, 22.59it/s]"
     ]
    },
    {
     "name": "stdout",
     "output_type": "stream",
     "text": [
      "[\"From: lerxst@wam.umd.edu (where's thing)\\nSubject: WHAT car this!?\\nNntp-Posting-Host: rac3.wam.umd.edu\\nOrganization: University Maryland, College Park\\nLines: 15\\n\\n I wondering anyone could enlighten car I saw\\nthe day. It 2-door sports car, looked late 60s/\\nearly 70s. It called Bricklin. The doors really small. In addition,\\nthe front bumper separate rest body. This \\nall I know. If anyone tellme model name, engine specs, years\\nof production, car made, history, whatever info you\\nhave funky looking car, please e-mail.\\n\\nThanks,\\n- IL\\n   ---- brought neighborhood Lerxst ----\\n\\n\\n\\n\\n\"]\n"
     ]
    },
    {
     "name": "stderr",
     "output_type": "stream",
     "text": [
      "\n"
     ]
    }
   ],
   "source": [
    "import nltk\n",
    "from nltk.tokenize import word_tokenize\n",
    "# nltk.download()\n",
    "# nltk.download('stopwords')\n",
    "\"\"\"引入停用词表\"\"\"\n",
    "from nltk.corpus import stopwords\n",
    "stop = set(stopwords.words('english'))\n",
    "print('English Stop Words List：\\n', stop)\n",
    "\n",
    "# sentence = \"this is a apple\"\n",
    "# filter_sentence = [\n",
    "#     w for w in sentence.split(' ') if w not in stopwords.words('english')\n",
    "# ]\n",
    "# print(filter_sentence)\n",
    "\n",
    "\"\"\"匹配停用词\"\"\"\n",
    "for i in tqdm(range(len(train_set.data))):\n",
    "    train_set.data[i] = \" \".join([\n",
    "        w for w in train_set.data[i].split(' ')\n",
    "        if w not in stopwords.words('english')\n",
    "    ])\n",
    "print(train_set.data[:1])"
   ]
  },
  {
   "cell_type": "markdown",
   "metadata": {},
   "source": [
    "### Normalization: lemmatization"
   ]
  },
  {
   "cell_type": "code",
   "execution_count": 122,
   "metadata": {},
   "outputs": [
    {
     "name": "stderr",
     "output_type": "stream",
     "text": [
      "[nltk_data] Error loading wordnet: <urlopen error [Errno 111]\n",
      "[nltk_data]     Connection refused>\n",
      "100%|██████████| 11314/11314 [00:00<00:00, 61342.63it/s]"
     ]
    },
    {
     "name": "stdout",
     "output_type": "stream",
     "text": [
      "[\"From: lerxst@wam.umd.edu (where's thing)\\nSubject: WHAT car this!?\\nNntp-Posting-Host: rac3.wam.umd.edu\\nOrganization: University Maryland, College Park\\nLines: 15\\n\\n I wondering anyone could enlighten car I saw\\nthe day. It 2-door sports car, looked late 60s/\\nearly 70s. It called Bricklin. The doors really small. In addition,\\nthe front bumper separate rest body. This \\nall I know. If anyone tellme model name, engine specs, years\\nof production, car made, history, whatever info you\\nhave funky looking car, please e-mail.\\n\\nThanks,\\n- IL\\n   ---- brought neighborhood Lerxst ----\\n\\n\\n\\n\\n\"]\n"
     ]
    },
    {
     "name": "stderr",
     "output_type": "stream",
     "text": [
      "\n"
     ]
    }
   ],
   "source": [
    "\"\"\"stemming -- 词干提取(no use)\"\"\"\n",
    "from nltk.stem import SnowballStemmer\n",
    "# stemmer = SnowballStemmer(\"english\") # 选择语言\n",
    "# stemmer.stem(\"leaves\") # 词干化单词\n",
    "\n",
    "\"\"\"lemmatization -- 词型还原(use)\"\"\"\n",
    "from nltk.stem import WordNetLemmatizer \n",
    "nltk.download('wordnet')\n",
    "wnl = WordNetLemmatizer()\n",
    "# print(wnl.lemmatize('leaves'))\n",
    "\n",
    "for i in tqdm(range(len(train_set.data))):\n",
    "    train_set[i] = wnl.lemmatize(train_set.data[i])\n",
    "    \n",
    "print(train_set.data[:1])"
   ]
  },
  {
   "cell_type": "markdown",
   "metadata": {},
   "source": [
    "### Extracting Features"
   ]
  },
  {
   "cell_type": "code",
   "execution_count": 130,
   "metadata": {},
   "outputs": [
    {
     "name": "stdout",
     "output_type": "stream",
     "text": [
      "\n",
      "\n",
      "TfidfTransformer(norm='l2', smooth_idf=True, sublinear_tf=False, use_idf=True)\n"
     ]
    }
   ],
   "source": [
    "from sklearn.feature_extraction.text import CountVectorizer\n",
    "\"\"\"build data dict\"\"\"\n",
    "count_vect = CountVectorizer()  # 特征向量计数函数\n",
    "X_train_counts = count_vect.fit_transform(train_set.data)  # 对文本进行特征向量处理\n",
    "\n",
    "print(X_train_counts[:0])\n",
    "\"\"\"TF-IDF: Term Frequency-Inverse Document Frequency\"\"\"\n",
    "from sklearn.feature_extraction.text import TfidfTransformer\n",
    "\n",
    "tfidf_transformer = TfidfTransformer()\n",
    "X_train_tfidf = tfidf_transformer.fit_transform(X_train_counts)\n",
    "\n",
    "print(X_train_tfidf[:0])\n",
    "print(tfidf_transformer)"
   ]
  },
  {
   "cell_type": "markdown",
   "metadata": {},
   "source": [
    "## 3. Bayes Classifier"
   ]
  },
  {
   "cell_type": "markdown",
   "metadata": {},
   "source": [
    "### 3.1 Train Bayes"
   ]
  },
  {
   "cell_type": "code",
   "execution_count": 134,
   "metadata": {},
   "outputs": [
    {
     "name": "stdout",
     "output_type": "stream",
     "text": [
      " Show gaussianNB_pipeline:\n",
      " Pipeline(memory=None,\n",
      "         steps=[('Vectorizer',\n",
      "                 CountVectorizer(analyzer='word', binary=False,\n",
      "                                 decode_error='strict',\n",
      "                                 dtype=<class 'numpy.int64'>, encoding='utf-8',\n",
      "                                 input='content', lowercase=True, max_df=0.5,\n",
      "                                 max_features=None, min_df=1,\n",
      "                                 ngram_range=(1, 1), preprocessor=None,\n",
      "                                 stop_words='english', strip_accents=None,\n",
      "                                 token_pattern='(?u)\\\\b\\\\w\\\\w+\\\\b',\n",
      "                                 tokenizer=None, vocabulary=None)),\n",
      "                ('TF_IDF',\n",
      "                 TfidfTransformer(norm='l2', smooth_idf=True,\n",
      "                                  sublinear_tf=False, use_idf=True)),\n",
      "                ('MultinomialNB',\n",
      "                 MultinomialNB(alpha=1.0, class_prior=None, fit_prior=True))],\n",
      "         verbose=False)\n"
     ]
    }
   ],
   "source": [
    "from sklearn.naive_bayes import MultinomialNB\n",
    "from sklearn.pipeline import Pipeline\n",
    "\n",
    "multinomialNB_pipeline = Pipeline([('Vectorizer',\n",
    "                                    CountVectorizer(stop_words='english',\n",
    "                                                    max_df=0.5)),\n",
    "                                   ('TF_IDF', TfidfTransformer()),\n",
    "                                   ('MultinomialNB', MultinomialNB())])\n",
    "multinomialNB_pipeline.fit(train_set.data, train_set.target)\n",
    "print(\" Show gaussianNB_pipeline:\\n\", multinomialNB_pipeline)"
   ]
  },
  {
   "cell_type": "code",
   "execution_count": 6,
   "metadata": {},
   "outputs": [
    {
     "name": "stdout",
     "output_type": "stream",
     "text": [
      "[15  7]\n",
      "'God is love' => soc.religion.christian\n",
      "'OpenGL on the GPU is fast' => rec.autos\n"
     ]
    }
   ],
   "source": [
    "# 自定义文档测试分类器\n",
    "docs_new = ['God is love', 'OpenGL on the GPU is fast']  # 文档\n",
    "\n",
    "predicted = multinomialNB_pipeline.predict(docs_new)\n",
    "\n",
    "print(predicted)  # 预测类别 [3 1]，一个属于3类，一个属于1类\n",
    "for doc, category in zip(docs_new, predicted):\n",
    "    print('%r => %s' % (doc, train_set.target_names[category]))"
   ]
  },
  {
   "cell_type": "markdown",
   "metadata": {},
   "source": [
    "### 3.2 Evaluation Bayes"
   ]
  },
  {
   "cell_type": "code",
   "execution_count": 145,
   "metadata": {},
   "outputs": [
    {
     "name": "stdout",
     "output_type": "stream",
     "text": [
      "                          precision    recall  f1-score   support\n",
      "\n",
      "             alt.atheism       0.81      0.69      0.74       319\n",
      "           comp.graphics       0.78      0.72      0.75       389\n",
      " comp.os.ms-windows.misc       0.80      0.72      0.76       394\n",
      "comp.sys.ibm.pc.hardware       0.67      0.80      0.73       392\n",
      "   comp.sys.mac.hardware       0.87      0.81      0.84       385\n",
      "          comp.windows.x       0.87      0.79      0.83       395\n",
      "            misc.forsale       0.87      0.79      0.83       390\n",
      "               rec.autos       0.89      0.91      0.90       396\n",
      "         rec.motorcycles       0.93      0.96      0.95       398\n",
      "      rec.sport.baseball       0.92      0.92      0.92       397\n",
      "        rec.sport.hockey       0.88      0.98      0.93       399\n",
      "               sci.crypt       0.75      0.96      0.84       396\n",
      "         sci.electronics       0.84      0.65      0.73       393\n",
      "                 sci.med       0.92      0.79      0.85       396\n",
      "               sci.space       0.82      0.94      0.88       394\n",
      "  soc.religion.christian       0.62      0.96      0.76       398\n",
      "      talk.politics.guns       0.66      0.94      0.78       364\n",
      "   talk.politics.mideast       0.94      0.94      0.94       376\n",
      "      talk.politics.misc       0.94      0.52      0.67       310\n",
      "      talk.religion.misc       0.95      0.24      0.38       251\n",
      "\n",
      "                accuracy                           0.82      7532\n",
      "               macro avg       0.84      0.80      0.80      7532\n",
      "            weighted avg       0.83      0.82      0.81      7532\n",
      "\n"
     ]
    },
    {
     "data": {
      "image/png": "[encoded data removed]",
      "text/plain": [
       "<Figure size 720x720 with 2 Axes>"
      ]
     },
     "metadata": {
      "needs_background": "light"
     },
     "output_type": "display_data"
    }
   ],
   "source": [
    "from sklearn.metrics import classification_report, confusion_matrix\n",
    "\n",
    "test_set = fetch_20newsgroups(subset='test', shuffle=True, random_state=42)\n",
    "docs_test = test_set.data\n",
    "predicted = multinomialNB_pipeline.predict(docs_test)\n",
    "\n",
    "print(\n",
    "    classification_report(test_set.target,\n",
    "                          predicted,\n",
    "                          target_names=test_set.target_names))\n",
    "\n",
    "# calculate confusion_matrix and plot it\n",
    "confusion_mat = confusion_matrix(test_set.target, predicted)\n",
    "fig, ax = plt.subplots(figsize=(10, 10))\n",
    "sns.heatmap(confusion_mat,\n",
    "            annot=True,\n",
    "            fmt='d',\n",
    "            xticklabels=test_set.target_names,\n",
    "            yticklabels=test_set.target_names)\n",
    "plt.ylabel('Actual')\n",
    "plt.xlabel('Predicted')\n",
    "plt.show()"
   ]
  },
  {
   "cell_type": "markdown",
   "metadata": {},
   "source": [
    "## 4. SVM Classifier"
   ]
  },
  {
   "cell_type": "markdown",
   "metadata": {},
   "source": [
    "### 4.1 Train svm"
   ]
  },
  {
   "cell_type": "code",
   "execution_count": 136,
   "metadata": {},
   "outputs": [
    {
     "name": "stdout",
     "output_type": "stream",
     "text": [
      " Show SGDClassifier_pipline:\n",
      " Pipeline(memory=None,\n",
      "         steps=[('Vectorizer',\n",
      "                 CountVectorizer(analyzer='word', binary=False,\n",
      "                                 decode_error='strict',\n",
      "                                 dtype=<class 'numpy.int64'>, encoding='utf-8',\n",
      "                                 input='content', lowercase=True, max_df=0.5,\n",
      "                                 max_features=None, min_df=1,\n",
      "                                 ngram_range=(1, 1), preprocessor=None,\n",
      "                                 stop_words='english', strip_accents=None,\n",
      "                                 token_pattern='(?u)\\\\b\\\\w\\\\w+\\\\b',\n",
      "                                 tokenizer=None, voc...\n",
      "                ('SGDClassifier',\n",
      "                 SGDClassifier(alpha=0.001, average=False, class_weight=None,\n",
      "                               early_stopping=False, epsilon=0.1, eta0=0.0,\n",
      "                               fit_intercept=True, l1_ratio=0.15,\n",
      "                               learning_rate='optimal', loss='hinge',\n",
      "                               max_iter=1000, n_iter_no_change=5, n_jobs=None,\n",
      "                               penalty='l2', power_t=0.5, random_state=42,\n",
      "                               shuffle=True, tol=0.001, validation_fraction=0.1,\n",
      "                               verbose=0, warm_start=False))],\n",
      "         verbose=False)\n"
     ]
    }
   ],
   "source": [
    "from sklearn.linear_model import SGDClassifier\n",
    "\n",
    "SGDClassifier_pipline = Pipeline([('Vectorizer',\n",
    "                                   CountVectorizer(stop_words='english',\n",
    "                                                   max_df=0.5)),\n",
    "                                  ('TF_IDF', TfidfTransformer()),\n",
    "                                  ('SGDClassifier',\n",
    "                                   SGDClassifier(loss='hinge',\n",
    "                                                 penalty='l2',\n",
    "                                                 alpha=1e-3,\n",
    "                                                 random_state=42))])\n",
    "print(\" Show SGDClassifier_pipline:\\n\", SGDClassifier_pipline)"
   ]
  },
  {
   "cell_type": "markdown",
   "metadata": {},
   "source": [
    "### 4.2 Evaluation SVM"
   ]
  },
  {
   "cell_type": "code",
   "execution_count": 137,
   "metadata": {
    "scrolled": true
   },
   "outputs": [
    {
     "name": "stdout",
     "output_type": "stream",
     "text": [
      "                          precision    recall  f1-score   support\n",
      "\n",
      "             alt.atheism       0.74      0.70      0.71       319\n",
      "           comp.graphics       0.79      0.69      0.74       389\n",
      " comp.os.ms-windows.misc       0.73      0.78      0.75       394\n",
      "comp.sys.ibm.pc.hardware       0.72      0.67      0.69       392\n",
      "   comp.sys.mac.hardware       0.81      0.82      0.82       385\n",
      "          comp.windows.x       0.85      0.76      0.81       395\n",
      "            misc.forsale       0.83      0.87      0.85       390\n",
      "               rec.autos       0.91      0.90      0.90       396\n",
      "         rec.motorcycles       0.93      0.96      0.94       398\n",
      "      rec.sport.baseball       0.88      0.92      0.90       397\n",
      "        rec.sport.hockey       0.87      0.98      0.93       399\n",
      "               sci.crypt       0.85      0.96      0.90       396\n",
      "         sci.electronics       0.81      0.62      0.70       393\n",
      "                 sci.med       0.89      0.87      0.88       396\n",
      "               sci.space       0.84      0.97      0.90       394\n",
      "  soc.religion.christian       0.73      0.93      0.82       398\n",
      "      talk.politics.guns       0.70      0.93      0.80       364\n",
      "   talk.politics.mideast       0.92      0.93      0.92       376\n",
      "      talk.politics.misc       0.88      0.56      0.69       310\n",
      "      talk.religion.misc       0.79      0.39      0.53       251\n",
      "\n",
      "                accuracy                           0.82      7532\n",
      "               macro avg       0.82      0.81      0.81      7532\n",
      "            weighted avg       0.83      0.82      0.82      7532\n",
      "\n",
      "[[222   1   0   1   0   0   2   0   2   3   0   2   1   9   6  49   2   5\n",
      "    1  13]\n",
      " [  2 269  22   8   9  25   3   1   4   9   4   9   5   2   9   2   2   3\n",
      "    0   1]\n",
      " [  0   9 308  23  11  11   0   1   2   4   3   7   2   1   6   1   0   1\n",
      "    1   3]\n",
      " [  4   8  30 263  21   4  15   2   3   3   2   3  21   2   5   0   2   2\n",
      "    1   1]\n",
      " [  1   4   8  23 316   1   9   0   1   4   2   2   6   1   1   0   2   1\n",
      "    3   0]\n",
      " [  1  30  42   0   3 302   2   0   1   1   1   2   1   1   6   1   1   0\n",
      "    0   0]\n",
      " [  0   2   0  18   7   0 339   8   1   2   3   1   3   2   2   0   1   1\n",
      "    0   0]\n",
      " [  1   1   1   2   1   0  10 355   6   1   0   0   9   1   3   0   4   0\n",
      "    1   0]\n",
      " [  0   0   0   1   0   0   3   5 384   2   0   0   1   1   0   0   0   0\n",
      "    0   1]\n",
      " [  0   0   0   0   1   0   3   0   0 364  28   0   0   0   0   0   1   0\n",
      "    0   0]\n",
      " [  0   0   0   0   1   0   0   0   0   3 393   0   0   0   0   2   0   0\n",
      "    0   0]\n",
      " [  0   1   1   0   2   0   3   3   0   1   0 380   2   1   0   0   1   0\n",
      "    1   0]\n",
      " [  7   5   9  25  11   4   8   9   6   6   3  28 242   5  13   6   2   2\n",
      "    2   0]\n",
      " [  2   4   0   0   2   2   4   0   2   5   3   1   4 345   2   7   3   4\n",
      "    5   1]\n",
      " [  0   3   0   0   1   0   1   0   0   0   1   1   0   3 381   2   0   0\n",
      "    1   0]\n",
      " [  9   0   2   1   0   0   0   0   1   1   0   0   2   1   4 372   0   0\n",
      "    0   5]\n",
      " [  0   0   0   1   1   0   2   2   1   2   1   6   0   2   3   0 338   1\n",
      "    3   1]\n",
      " [ 10   1   0   0   1   4   0   1   0   2   2   1   0   1   0   1   1 350\n",
      "    1   0]\n",
      " [  3   1   0   0   1   1   1   0   1   0   3   4   0   4   6   3 101   6\n",
      "  175   0]\n",
      " [ 40   1   1   0   0   0   2   2   0   1   1   1   0   4   6  63  21   5\n",
      "    4  99]]\n"
     ]
    }
   ],
   "source": [
    "SGDClassifier_pipline.fit(train_set.data, train_set.target)\n",
    "predicted = SGDClassifier_pipline.predict(docs_test)\n",
    "print(classification_report(test_set.target, predicted, target_names=test_set.target_names))\n",
    "print(confusion_matrix(test_set.target, predicted))\n"
   ]
  },
  {
   "cell_type": "markdown",
   "metadata": {},
   "source": [
    "### 4.3 SVM "
   ]
  },
  {
   "cell_type": "code",
   "execution_count": 138,
   "metadata": {},
   "outputs": [
    {
     "name": "stdout",
     "output_type": "stream",
     "text": [
      " Show SVC_pipline:\n",
      " Pipeline(memory=None,\n",
      "         steps=[('Vectorizer',\n",
      "                 CountVectorizer(analyzer='word', binary=False,\n",
      "                                 decode_error='strict',\n",
      "                                 dtype=<class 'numpy.int64'>, encoding='utf-8',\n",
      "                                 input='content', lowercase=True, max_df=1.0,\n",
      "                                 max_features=None, min_df=1,\n",
      "                                 ngram_range=(1, 1), preprocessor=None,\n",
      "                                 stop_words=None, strip_accents=None,\n",
      "                                 token_pattern='(?u)\\\\b\\\\w\\\\w+\\\\b',\n",
      "                                 tokenizer=None, vocabulary=None)),\n",
      "                ('TF_IDF',\n",
      "                 TfidfTransformer(norm='l2', smooth_idf=True,\n",
      "                                  sublinear_tf=False, use_idf=True)),\n",
      "                ('SVCClassifier',\n",
      "                 LinearSVC(C=1.0, class_weight=None, dual=True,\n",
      "                           fit_intercept=True, intercept_scaling=1,\n",
      "                           loss='squared_hinge', max_iter=1000,\n",
      "                           multi_class='ovr', penalty='l2', random_state=42,\n",
      "                           tol=0.0001, verbose=0))],\n",
      "         verbose=False)\n"
     ]
    }
   ],
   "source": [
    "from sklearn.svm import LinearSVC\n",
    "\n",
    "SVC_pipline = Pipeline([('Vectorizer', CountVectorizer()),\n",
    "                        ('TF_IDF', TfidfTransformer()),\n",
    "                        ('SVCClassifier', LinearSVC(random_state=42))])\n",
    "print(\" Show SVC_pipline:\\n\", SVC_pipline)"
   ]
  },
  {
   "cell_type": "code",
   "execution_count": 139,
   "metadata": {},
   "outputs": [
    {
     "name": "stdout",
     "output_type": "stream",
     "text": [
      "                          precision    recall  f1-score   support\n",
      "\n",
      "             alt.atheism       0.82      0.80      0.81       319\n",
      "           comp.graphics       0.76      0.80      0.78       389\n",
      " comp.os.ms-windows.misc       0.77      0.73      0.75       394\n",
      "comp.sys.ibm.pc.hardware       0.71      0.76      0.74       392\n",
      "   comp.sys.mac.hardware       0.84      0.86      0.85       385\n",
      "          comp.windows.x       0.87      0.76      0.81       395\n",
      "            misc.forsale       0.83      0.91      0.87       390\n",
      "               rec.autos       0.92      0.91      0.91       396\n",
      "         rec.motorcycles       0.95      0.95      0.95       398\n",
      "      rec.sport.baseball       0.92      0.95      0.93       397\n",
      "        rec.sport.hockey       0.96      0.98      0.97       399\n",
      "               sci.crypt       0.93      0.94      0.93       396\n",
      "         sci.electronics       0.81      0.79      0.80       393\n",
      "                 sci.med       0.90      0.87      0.88       396\n",
      "               sci.space       0.90      0.93      0.92       394\n",
      "  soc.religion.christian       0.84      0.93      0.88       398\n",
      "      talk.politics.guns       0.75      0.92      0.82       364\n",
      "   talk.politics.mideast       0.97      0.89      0.93       376\n",
      "      talk.politics.misc       0.82      0.62      0.71       310\n",
      "      talk.religion.misc       0.75      0.61      0.68       251\n",
      "\n",
      "                accuracy                           0.85      7532\n",
      "               macro avg       0.85      0.85      0.85      7532\n",
      "            weighted avg       0.85      0.85      0.85      7532\n",
      "\n",
      "[[254   1   0   1   0   2   1   0   2   0   0   1   1   6   7  22   0   1\n",
      "    1  19]\n",
      " [  1 313  12   8   5  17   3   2   1   3   1   4   9   0   4   2   0   1\n",
      "    0   3]\n",
      " [  0  17 288  40   7  13   4   1   0   4   0   2   4   2   5   2   0   0\n",
      "    1   4]\n",
      " [  0  14  20 297  21   1  13   2   1   1   0   1  19   0   1   0   0   0\n",
      "    0   1]\n",
      " [  0   5   4  19 330   0   9   0   0   2   1   1   9   1   0   0   2   0\n",
      "    1   1]\n",
      " [  1  35  38   3   3 302   3   1   2   0   0   0   1   1   4   0   1   0\n",
      "    0   0]\n",
      " [  0   1   1  10   7   0 353   5   1   2   1   1   5   1   0   0   0   0\n",
      "    1   1]\n",
      " [  0   1   0   5   1   1  10 359   6   2   0   0   6   1   0   0   2   0\n",
      "    2   0]\n",
      " [  0   0   0   1   0   0   4   9 380   1   0   0   1   1   0   1   0   0\n",
      "    0   0]\n",
      " [  0   0   1   0   0   0   4   2   0 378  10   0   1   0   0   0   0   0\n",
      "    1   0]\n",
      " [  0   0   0   1   1   0   1   0   0   3 392   1   0   0   0   0   0   0\n",
      "    0   0]\n",
      " [  1   3   1   0   2   2   4   2   1   3   0 372   2   0   0   0   2   0\n",
      "    1   0]\n",
      " [  0   6   5  23   9   1   5   5   3   2   1   8 310   8   2   1   2   1\n",
      "    0   1]\n",
      " [  3   5   3   4   2   2   3   0   1   4   1   1   9 343   1   3   1   3\n",
      "    5   2]\n",
      " [  0   7   0   1   1   2   1   0   0   0   1   1   4   5 368   1   1   0\n",
      "    1   0]\n",
      " [  4   0   2   1   0   0   0   0   0   1   0   0   3   2   3 372   0   0\n",
      "    0  10]\n",
      " [  1   0   0   1   1   0   2   0   1   2   0   4   0   3   2   0 334   1\n",
      "    8   4]\n",
      " [ 11   1   0   0   1   3   0   1   0   3   0   0   0   0   1   6   2 335\n",
      "   12   0]\n",
      " [  3   1   0   0   1   1   1   1   0   0   0   3   0   3   5   4  88   2\n",
      "  192   5]\n",
      " [ 30   2   1   1   0   0   3   0   0   1   0   0   0   3   4  31  12   1\n",
      "    8 154]]\n"
     ]
    }
   ],
   "source": [
    "from sklearn.metrics import classification_report, confusion_matrix\n",
    "\n",
    "test_set = fetch_20newsgroups(subset='test', shuffle=True, random_state=42)\n",
    "docs_test = test_set.data\n",
    "SVC_pipline.fit(train_set.data, train_set.target)\n",
    "predicted = SVC_pipline.predict(docs_test)\n",
    "print(classification_report(test_set.target, predicted, target_names=test_set.target_names))\n",
    "print(confusion_matrix(test_set.target, predicted))"
   ]
  },
  {
   "cell_type": "markdown",
   "metadata": {},
   "source": [
    "## GridSearch"
   ]
  },
  {
   "cell_type": "code",
   "execution_count": 205,
   "metadata": {},
   "outputs": [
    {
     "name": "stdout",
     "output_type": "stream",
     "text": [
      "0.9130281301508074\n",
      "{'MultinomialNB__alpha': 0.01, 'TF_IDF__use_idf': True, 'Vectorizer__ngram_range': (1, 2)}\n",
      "Pipeline(memory=None,\n",
      "         steps=[('Vectorizer',\n",
      "                 CountVectorizer(analyzer='word', binary=False,\n",
      "                                 decode_error='strict',\n",
      "                                 dtype=<class 'numpy.int64'>, encoding='utf-8',\n",
      "                                 input='content', lowercase=True, max_df=0.5,\n",
      "                                 max_features=None, min_df=1,\n",
      "                                 ngram_range=(1, 2), preprocessor=None,\n",
      "                                 stop_words='english', strip_accents=None,\n",
      "                                 token_pattern='(?u)\\\\b\\\\w\\\\w+\\\\b',\n",
      "                                 tokenizer=None, vocabulary=None)),\n",
      "                ('TF_IDF',\n",
      "                 TfidfTransformer(norm='l2', smooth_idf=True,\n",
      "                                  sublinear_tf=False, use_idf=True)),\n",
      "                ('MultinomialNB',\n",
      "                 MultinomialNB(alpha=0.01, class_prior=None, fit_prior=True))],\n",
      "         verbose=False)\n"
     ]
    }
   ],
   "source": [
    "from sklearn.model_selection import GridSearchCV\n",
    "\n",
    "bayes_params = {\n",
    "    'Vectorizer__ngram_range': [(1, 1), (1, 2)],\n",
    "    'TF_IDF__use_idf': (True, False),\n",
    "    'MultinomialNB__alpha': (1e-2, 1e-3),\n",
    "}\n",
    "\n",
    "grid = GridSearchCV(multinomialNB_pipeline, bayes_params, cv=5, iid=False, n_jobs=-1)\n",
    "grid.fit(train_set.data, train_set.target)\n",
    "# summarize the results of the grid search\n",
    "print(grid.best_score_)\n",
    "print(grid.best_params_)\n",
    "print(grid.best_estimator_)"
   ]
  },
  {
   "cell_type": "code",
   "execution_count": 207,
   "metadata": {},
   "outputs": [
    {
     "name": "stdout",
     "output_type": "stream",
     "text": [
      "0.9024208153638664\n",
      "{'SGDClassifier__alpha': 0.001, 'TF_IDF__use_idf': True, 'Vectorizer__ngram_range': (1, 2)}\n",
      "Pipeline(memory=None,\n",
      "         steps=[('Vectorizer',\n",
      "                 CountVectorizer(analyzer='word', binary=False,\n",
      "                                 decode_error='strict',\n",
      "                                 dtype=<class 'numpy.int64'>, encoding='utf-8',\n",
      "                                 input='content', lowercase=True, max_df=0.5,\n",
      "                                 max_features=None, min_df=1,\n",
      "                                 ngram_range=(1, 2), preprocessor=None,\n",
      "                                 stop_words='english', strip_accents=None,\n",
      "                                 token_pattern='(?u)\\\\b\\\\w\\\\w+\\\\b',\n",
      "                                 tokenizer=None, voc...\n",
      "                ('SGDClassifier',\n",
      "                 SGDClassifier(alpha=0.001, average=False, class_weight=None,\n",
      "                               early_stopping=False, epsilon=0.1, eta0=0.0,\n",
      "                               fit_intercept=True, l1_ratio=0.15,\n",
      "                               learning_rate='optimal', loss='hinge',\n",
      "                               max_iter=1000, n_iter_no_change=5, n_jobs=None,\n",
      "                               penalty='l2', power_t=0.5, random_state=42,\n",
      "                               shuffle=True, tol=0.001, validation_fraction=0.1,\n",
      "                               verbose=0, warm_start=False))],\n",
      "         verbose=False)\n"
     ]
    }
   ],
   "source": [
    "svm_params = {\n",
    "    'Vectorizer__ngram_range': [(1, 1), (1, 2)],\n",
    "    'TF_IDF__use_idf': (True, False),\n",
    "    'SGDClassifier__alpha': (1e-2, 1e-3),\n",
    "}\n",
    "\n",
    "grid = GridSearchCV(SGDClassifier_pipline, svm_params, cv=5, iid=False, n_jobs=-1)\n",
    "grid.fit(train_set.data, train_set.target)\n",
    "# summarize the results of the grid search\n",
    "print(grid.best_score_)\n",
    "print(grid.best_params_)\n",
    "print(grid.best_estimator_)"
   ]
  },
  {
   "cell_type": "code",
   "execution_count": null,
   "metadata": {},
   "outputs": [],
   "source": []
  }
 ],
 "metadata": {
  "celltoolbar": "Raw Cell Format",
  "kernelspec": {
   "display_name": "Python 3",
   "language": "python",
   "name": "python3"
  },
  "language_info": {
   "codemirror_mode": {
    "name": "ipython",
    "version": 3
   },
   "file_extension": ".py",
   "mimetype": "text/x-python",
   "name": "python",
   "nbconvert_exporter": "python",
   "pygments_lexer": "ipython3",
   "version": "3.6.8"
  }
 },
 "nbformat": 4,
 "nbformat_minor": 2
}
