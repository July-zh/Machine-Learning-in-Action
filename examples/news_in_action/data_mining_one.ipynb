{
 "cells": [
  {
   "cell_type": "code",
   "execution_count": 3,
   "metadata": {},
   "outputs": [],
   "source": [
    "import numpy as np\n",
    "import pandas as pd\n",
    "from tqdm import tqdm\n",
    "import matplotlib.pyplot as plt\n",
    "import seaborn as sns\n",
    "import jsonlines\n",
    "from w3lib.html import remove_tags\n",
    "import pickle"
   ]
  },
  {
   "cell_type": "markdown",
   "metadata": {},
   "source": [
    "## 1. Loading News Dataset"
   ]
  },
  {
   "cell_type": "code",
   "execution_count": 4,
   "metadata": {},
   "outputs": [
    {
     "name": "stdout",
     "output_type": "stream",
     "text": [
      "CPU times: user 4 µs, sys: 4 µs, total: 8 µs\n",
      "Wall time: 16 µs\n",
      "原始数据集数量: 1721092\n",
      "无类别文章个数: 49418\n",
      "可用数据集数据: 1671674 - 1671674\n"
     ]
    }
   ],
   "source": [
    "%time\n",
    "nowLen = 100\n",
    "base_path = '/Github/Machine-Learning-in-Action/examples/news_data_generator/news_data_generator/spiders/'\n",
    "file_name = 'timesall.jl'\n",
    "data_path = base_path + file_name\n",
    "\n",
    "train_set = {}\n",
    "train_set['data'] = []\n",
    "train_set['target'] = []\n",
    "raw_counts = 0  # 统计原始数据数量\n",
    "with open(data_path, \"r+\", encoding=\"utf8\") as f:\n",
    "    for i in jsonlines.Reader(f):\n",
    "        # item: dict 表示一条原始数据\n",
    "        \"\"\"组装数据集\"\"\"\n",
    "        title = ''.join(i['title']).lower()  # from list to lower str\n",
    "        url = ''.join(i['url']).lower()\n",
    "        if i['type'] != []:\n",
    "            if i['content'] != []:\n",
    "                train_set['target'].append(i['type'][0])\n",
    "                train_set['data'].append(i['content'])\n",
    "        elif i['module'] != []:\n",
    "            if i['content'] != []:\n",
    "                train_set['target'].append(i['module'][0])\n",
    "                train_set['data'].append(i['content'])\n",
    "        raw_counts += 1\n",
    "\n",
    "data_len = len(train_set['data'])\n",
    "target_len = len(train_set['target'])\n",
    "print('原始数据集数量: {}'.format(raw_counts))\n",
    "print('无类别文章个数: {}'.format(raw_counts - data_len))\n",
    "print('可用数据集数据: {} - {}'.format(data_len, target_len))"
   ]
  },
  {
   "cell_type": "code",
   "execution_count": 5,
   "metadata": {
    "scrolled": true
   },
   "outputs": [
    {
     "name": "stdout",
     "output_type": "stream",
     "text": [
      "China-ASEAN的个数: 1\n",
      "WWII parade的个数: 3\n",
      "chuck@evercohol.com的个数: 21\n",
      "Lantern Festival的个数: 13\n",
      "Society的个数: 141132\n",
      "Brexit的个数: 529\n",
      "MARKETS的个数: 8758\n",
      "Zhang Chunxian的个数: 6\n",
      "Vaccine scandal的个数: 3\n",
      "Smog的个数: 4\n",
      "METRO BEIJING的个数: 7746\n",
      "Asian Review的个数: 345\n",
      "Bo Xilai的个数: 15\n",
      "Olympics的个数: 8217\n",
      "SCO meet的个数: 4\n",
      "Diplomatic Channel的个数: 3033\n",
      "Euro 2016的个数: 236\n",
      "MASTERING CHINA的个数: 154\n",
      "MOTORSPORT的个数: 118\n",
      "Hockey的个数: 90\n",
      "Edward Snowden的个数: 50\n",
      "FILM的个数: 3599\n",
      "13th Five-Year Plan的个数: 70\n",
      "ECONOMY的个数: 18230\n",
      "TOUCH OF WARMTH的个数: 5\n",
      "http://www.mercedes-benzarena.com/的个数: 27\n",
      "Lee Kuan Yew的个数: 15\n",
      "Backgrounder: The company with explosive warehouses in Tianjin的个数: 3\n",
      "Yang Jiechi的个数: 9\n",
      "FEATURE的个数: 33\n",
      "www.chelseafc.com的个数: 3\n",
      "EYE ON THE BALL的个数: 87\n",
      "POLITICS的个数: 8004\n",
      "MEDICINE的个数: 425\n",
      "Hurricane Matthew的个数: 6\n",
      "Federal Reserve的个数: 9\n",
      "Ministry of National Defense的个数: 51\n",
      "Anti-Terrorism Law的个数: 8\n",
      "Relationships的个数: 39\n",
      "Fan Changlong的个数: 3\n",
      "Boxing的个数: 180\n",
      "Energy的个数: 948\n",
      "National Development and Reform Commission的个数: 450\n",
      "China-EU relations的个数: 9\n",
      "Rugby的个数: 333\n",
      "GALLERY的个数: 5968\n",
      "Paris attacks的个数: 132\n",
      "Ministry of Agriculture的个数: 77\n",
      "ASIA-PACIFIC的个数: 21379\n",
      "CHINA的个数: 38822\n",
      "Film的个数: 9794\n",
      "Comics的个数: 54\n",
      "Guo Jinlong的个数: 3\n",
      "AIR & SPACE的个数: 2047\n",
      "Online@FHC的个数: 3\n",
      "THEATER的个数: 516\n",
      "BRICS的个数: 3\n",
      "Medicine的个数: 834\n",
      "G20的个数: 280\n",
      "PROFILE的个数: 346\n",
      "Gay marriage的个数: 3\n",
      "Wang Qishan的个数: 9\n",
      "PPI的个数: 57\n",
      "ASEAN的个数: 99\n",
      "ENERGY的个数: 245\n",
      "http://www.1905.com/的个数: 3\n",
      "Mid-East的个数: 56855\n",
      "MES的个数: 3\n",
      "Zhang Dejiang的个数: 3\n",
      "Kung fu的个数: 3\n",
      "APEC的个数: 3\n",
      "Europe's refugee crisis的个数: 3\n",
      "Russian airstrikes的个数: 6\n",
      "Photography的个数: 90\n",
      "Video Games的个数: 69\n",
      "www.shanghailatindance.com的个数: 3\n",
      "http://www.99women.org/的个数: 12\n",
      "Yang Jing的个数: 21\n",
      "WINTER SPORT的个数: 168\n",
      "SCO summit的个数: 1\n",
      "Economy的个数: 77843\n",
      "Basketball的个数: 6721\n",
      "US election的个数: 100\n",
      "INDUSTRIES的个数: 7210\n",
      "DIPLOMACY的个数: 19576\n",
      "www.ixpos.de/markterschliessung的个数: 3\n",
      "Xiongan New Area的个数: 28\n",
      "Physics的个数: 105\n",
      "Ministry of Environmental Protection的个数: 102\n",
      "North Korea的个数: 479\n",
      "PHOTOGRAPHY的个数: 89\n",
      "bizopinion@globaltimes.com.cn的个数: 6\n",
      "Americas的个数: 52526\n",
      "Wang Yang的个数: 18\n",
      "EYE ON ECONOMY的个数: 962\n",
      "Belt and Road的个数: 655\n",
      "ASIAN REVIEW的个数: 2235\n",
      "BASKETBALL的个数: 595\n",
      "www.quyou.net/hpzsh/order.aspx的个数: 3\n",
      "World Cup 2014的个数: 3\n",
      "www.chinatruck.org的个数: 3\n",
      "RELATIONSHIPS的个数: 73\n",
      "CELEBRITY的个数: 813\n",
      "http://www.oceanrecov.org/的个数: 6\n",
      "FASHION的个数: 746\n",
      "Cross-Borders的个数: 8565\n",
      "Greece's new government的个数: 3\n",
      "Central & South Asia的个数: 35286\n",
      "Politics的个数: 29298\n",
      "Orlando shooting的个数: 3\n",
      "Food的个数: 1098\n",
      "Yingluck Shinawatra的个数: 1\n",
      "ART的个数: 3522\n",
      "Baseball的个数: 48\n",
      "Africa的个数: 42168\n",
      "www.hen103.org的个数: 3\n",
      "Rohingya的个数: 72\n",
      "Beidou的个数: 9\n",
      "PHOTOS的个数: 48362\n",
      "AMERICAS的个数: 18205\n",
      "Tiangong-2的个数: 6\n",
      "Clique bait: The systematic takedown of Ling Jihua’s circle的个数: 3\n",
      "Russian plane crash的个数: 3\n",
      "RUGBY的个数: 36\n",
      "Ministry of Industry and Information Technology的个数: 165\n",
      "http://www.weibo.com/metroshanghai的个数: 3\n",
      "Third Plenary Session of the 18th CPC Central Committee的个数: 9\n",
      "Two Sessions的个数: 13\n",
      "G7 meeting的个数: 11\n",
      "Counterpoint的个数: 237\n",
      "THAAD deployment的个数: 15\n",
      "Industries的个数: 68024\n",
      "Chen Yuan的个数: 3\n",
      "Asia-Pacific的个数: 87045\n",
      "Soccer的个数: 30238\n",
      "CULTURE & LEISURE的个数: 2531\n",
      "ASEAN Summit的个数: 3\n",
      "Christmas的个数: 259\n",
      "FAMILY的个数: 64\n",
      "HK/Macao/Taiwan的个数: 3381\n",
      "Summer Davos的个数: 7\n",
      "BOOKS的个数: 996\n",
      "Reform and opening-up的个数: 6\n",
      "Ministry of Transport的个数: 85\n",
      "Companies的个数: 42360\n",
      "Wang Yong的个数: 21\n",
      "SPORTS的个数: 10168\n",
      "Tu Youyou的个数: 9\n",
      "Doklam standoff的个数: 11\n",
      "Arts的个数: 144\n",
      "JUST TECH的个数: 24\n",
      "http://www.vwdieselinfo.com/的个数: 3\n",
      "BUSINESS的个数: 22504\n",
      "Letters的个数: 423\n",
      "HOMES & GARDENS的个数: 34\n",
      "Catalan independence的个数: 15\n",
      "WATER SPORT的个数: 144\n",
      "METRO SHANGHAI的个数: 10844\n",
      "Greek bailout的个数: 6\n",
      "Comments的个数: 18787\n",
      "INSIDER'S EYE的个数: 2665\n",
      "www.minshengart.com的个数: 3\n",
      "EXTRA TIME的个数: 154\n",
      "VIEWPOINT的个数: 5379\n",
      "Zhang Ping的个数: 9\n",
      "IT的个数: 6085\n",
      "Winter Sport的个数: 279\n",
      "TRACK AND FIELD的个数: 142\n",
      "FOOTBALL的个数: 39\n",
      "iPhone 7的个数: 12\n",
      "Long March-5的个数: 6\n",
      "National Audit Office的个数: 24\n",
      "BASEBALL的个数: 5\n",
      "Biology的个数: 2193\n",
      "Ministry of Public Security的个数: 134\n",
      " 的个数: 3\n",
      "BRICS Xiamen Summit的个数: 3\n",
      "Ministry of Foreign Affairs的个数: 164\n",
      "Ministry of Justice的个数: 18\n",
      "China-的个数: 4\n",
      "Meng Jianzhu的个数: 3\n",
      "Cartoon的个数: 4512\n",
      "THAAD的个数: 48\n",
      "Liu Yandong的个数: 6\n",
      "Law的个数: 1740\n",
      "Paris Agreement的个数: 62\n",
      "Editorial的个数: 6036\n",
      "ASIA IN FOCUS的个数: 294\n",
      "Ministry of State Security的个数: 9\n",
      "Tung Chee-hwa的个数: 6\n",
      "www.m-restaurantgroup.com/mbund/literary-m-2015的个数: 3\n",
      "CHINA WATCH的个数: 17\n",
      "National Health and Family Planning Commission的个数: 78\n",
      "Press Release的个数: 3837\n",
      "OPINION的个数: 38\n",
      "SCI-TECH的个数: 10865\n",
      "Metro Beijing的个数: 20661\n",
      "Davos的个数: 83\n",
      "Occupy Central movement的个数: 20\n",
      "Singles' Day sales的个数: 7\n",
      "13th five-year plan的个数: 9\n",
      "MILITARY的个数: 2449\n",
      "panda的个数: 75\n",
      "Ministry of Commerce的个数: 672\n",
      "HK/MACAO/TAIWAN的个数: 1760\n",
      "Chang Wanquan的个数: 3\n",
      "Read more: Obama ignores war legacy denial with Hiroshima visit的个数: 3\n",
      "Syria peace talks的个数: 3\n",
      "Zhou Yongkang的个数: 9\n",
      "Discovery的个数: 1352\n",
      "Fashion的个数: 750\n",
      "PHYSICS的个数: 120\n",
      "Ministry of Finance的个数: 219\n",
      "Li Jianguo的个数: 6\n",
      "Insight的个数: 2995\n",
      "Ministry of Science and Technology的个数: 28\n",
      "Download PDF!的个数: 3\n",
      "Authorities condemn HK 'referendum' as 'invalid and illegal'的个数: 3\n",
      "Hong Kong riot的个数: 30\n",
      "LAW的个数: 1025\n",
      "Markets的个数: 37868\n",
      "COMICS的个数: 24\n",
      "Nice attack的个数: 12\n",
      "ISIS的个数: 90\n",
      "Ling Jihua的个数: 6\n",
      "Water sport的个数: 264\n",
      "www.honor.cn的个数: 3\n",
      "BIZ的个数: 2427\n",
      "Ukraine的个数: 30\n",
      "Air & Space的个数: 5850\n",
      "SOURCE的个数: 43\n",
      "http://www.china-drama.com/的个数: 3\n",
      "Zika virus的个数: 46\n",
      "Liu Yunshan的个数: 6\n",
      "Ministry of Water Resources的个数: 12\n",
      "Bangkok blast的个数: 3\n",
      "MH370的个数: 69\n",
      "GOLF的个数: 490\n",
      "EUROPE的个数: 22127\n",
      "Ministry of Housing and Urban-Rural Development的个数: 29\n",
      "LETTERS的个数: 48\n",
      "BRICS Summit的个数: 3\n",
      "MID-EAST的个数: 12882\n",
      "Economic Work Conference的个数: 55\n",
      "www.youngchinabiz.com的个数: 3\n",
      "Ukraine crisis的个数: 75\n",
      "VIDEO GAMES的个数: 29\n",
      "Theater的个数: 528\n",
      "FOOD的个数: 608\n",
      "No.1 central document的个数: 3\n",
      "TENNIS的个数: 1255\n",
      "ODD PICTURES的个数: 3562\n",
      "OLYMPICS的个数: 747\n",
      "China Watch的个数: 108\n",
      "California shooting的个数: 3\n",
      "Liu Qibao的个数: 3\n",
      "WHAT’S ON的个数: 35\n",
      "ODD NEWS的个数: 9293\n",
      "http://www.minshengart.com/的个数: 42\n",
      "Aircraft carrier的个数: 3\n",
      "Europe的个数: 65206\n",
      "Chang'e-3的个数: 6\n",
      "www.indianconsulate.org.cn/booking/form的个数: 3\n",
      "Li Keqiang的个数: 399\n",
      "Kim Jong-un的个数: 116\n",
      "Tennis的个数: 6468\n",
      "Chapecoense的个数: 21\n",
      "Odd News的个数: 25819\n",
      "APEC summit的个数: 6\n",
      "Park Geun-hye的个数: 3\n",
      "Environment的个数: 1353\n",
      "AIIB的个数: 75\n",
      "Dutch election的个数: 3\n",
      "ODD的个数: 5646\n",
      "Ministry of Education的个数: 157\n",
      "CROSS-BORDERS的个数: 9629\n",
      "ARTS的个数: 9902\n",
      "INSIGHT的个数: 349\n",
      "LEARNING CHINESE的个数: 337\n",
      "MUSIC的个数: 2086\n",
      "World Internet Conference的个数: 15\n",
      "Shangri-La Dialogue的个数: 7\n",
      "DANCE的个数: 162\n",
      "Fitness的个数: 3627\n",
      "Military的个数: 7588\n",
      "http://www.shpride.com/films/?lang=en的个数: 3\n",
      "Xi Jinping的个数: 648\n",
      "shmetromuseum@126.com的个数: 3\n",
      "Iran nuclear talks的个数: 6\n",
      "CARTOON的个数: 2061\n",
      "Nobel prize的个数: 6\n",
      "WORLD的个数: 27565\n",
      "PRESS RELEASE的个数: 1667\n",
      "Ministry of Culture的个数: 57\n",
      "SPECIAL-COVERAGE的个数: 176\n",
      "COMPANIES的个数: 15321\n",
      "Motorsport的个数: 723\n",
      "SOCIETY的个数: 29526\n",
      "Orange alert for rainstorms maintained across China的个数: 3\n",
      "Art的个数: 1623\n",
      "Mao Zedong的个数: 42\n",
      "Cannes Film Festival的个数: 15\n",
      "Family的个数: 27\n",
      "LATEST NEWS的个数: 297\n",
      "South China Sea arbitration的个数: 9\n",
      "MOST LIKED ON TWITTER的个数: 1579\n",
      "http://www.shanghaifashionweek.com/的个数: 3\n",
      "Golf的个数: 2154\n",
      "EYE ON THE ECONOMY的个数: 843\n",
      "Books的个数: 1983\n",
      "http://www.creb.com.cn/的个数: 3\n",
      "Culture & Leisure的个数: 798\n",
      "TV的个数: 1490\n",
      "SOCCER的个数: 5972\n",
      "CENTRAL & SOUTH ASIA的个数: 7307\n",
      "Asia in Focus的个数: 117\n",
      "Donald Trump的个数: 1131\n",
      "ENVIRONMENT的个数: 831\n",
      "Zhang Gaoli的个数: 9\n",
      "FITNESS的个数: 325\n",
      "Observer的个数: 3306\n",
      "Wushu的个数: 12\n",
      "Korean Peninsula的个数: 124\n",
      "DIPLOMATIC CHANNEL的个数: 1904\n",
      "http://www.huodongxing.com/event/8298599140100的个数: 3\n",
      "Emmanuel Macron的个数: 219\n",
      "BIZ COMMENTS的个数: 1\n",
      "http://www.shanghartgallery.com/的个数: 12\n",
      "LIFE的个数: 37938\n",
      "Miscellany的个数: 42388\n",
      "XpressWest的个数: 6\n",
      "BOXING的个数: 113\n",
      "Columnists的个数: 996\n",
      "GT EVENTS的个数: 15\n",
      "Track and field的个数: 396\n",
      "Spring Festival的个数: 9\n",
      "CLEVER CORNER的个数: 6\n",
      "Homes & Gardens的个数: 30\n",
      "Valentine's Day的个数: 22\n",
      "Zhuhai air show的个数: 3\n",
      "Cultural Revolution的个数: 20\n",
      "www.12306.cn的个数: 3\n",
      "Metro Shanghai的个数: 32925\n",
      "OP-ED的个数: 764\n",
      "http://whiteconfucius.com/的个数: 3\n",
      "Ministry of Land and Resources的个数: 15\n",
      "Fidel Castro的个数: 12\n",
      "http://www.artsbird.com/的个数: 3\n",
      "Typhoon Soudelor的个数: 6\n",
      "SPORT的个数: 7750\n",
      "www.wepiao.com的个数: 3\n",
      "Sino-US ties的个数: 3\n",
      "INFOGRAPHICS的个数: 998\n",
      "Silk Road的个数: 217\n",
      "COLUMNISTS的个数: 195\n",
      "US election campaign的个数: 3\n",
      "EXPERT ASSESSMENT的个数: 1866\n",
      "DISCOVERY的个数: 923\n",
      "Li Yuanchao的个数: 3\n",
      "Taiwan election的个数: 2\n",
      "Xu Qiliang的个数: 3\n",
      "Zhou Xiaochuan的个数: 48\n",
      "FENG YU'S COLUMN的个数: 3\n",
      "Kim Jong-nam的个数: 21\n",
      "Iran's FM says no deal on Monday, urges more diplomacy的个数: 3\n",
      "Boao的个数: 24\n",
      "Greek debt crisis的个数: 6\n",
      "Han Zheng的个数: 3\n",
      "Moon Jae-in的个数: 43\n",
      "SCO的个数: 6\n",
      "London attack的个数: 3\n",
      "Voices的个数: 8043\n",
      "What’s on的个数: 6\n",
      "Ministry of Civil Affairs的个数: 80\n",
      "OBSERVER的个数: 1821\n",
      "MH17 crash的个数: 15\n",
      "Celebrity的个数: 1452\n",
      "Yu Zhengsheng的个数: 3\n",
      "Nelson Mandela的个数: 43\n",
      "Istanbul bombing的个数: 3\n",
      "www.ceibs.edu/20_en/pages/121078_23.shtml的个数: 6\n",
      "Xinjiang的个数: 178\n",
      "BIOLOGY的个数: 1356\n",
      "Diplomacy的个数: 54175\n",
      "AFRICA的个数: 7814\n",
      "EDITORIAL的个数: 2207\n",
      "VIDEO的个数: 222\n",
      "HU SAYS的个数: 654\n",
      "Wang Chen的个数: 15\n",
      "MISCELLANY的个数: 3453\n",
      "Focus的个数: 63\n",
      "Nanjing Massacre的个数: 3\n",
      "Viewpoint的个数: 29224\n",
      "IN-DEPTH的个数: 1619\n",
      "UN sanctions on North Korea的个数: 3\n",
      "www.lifeline-shanghai.com的个数: 3\n",
      "MOST LIKED ON FACEBOOK的个数: 1398\n",
      "GT VOICE的个数: 9\n",
      "Profile的个数: 2711\n",
      "Ma Kai的个数: 9\n",
      "FUN TIME的个数: 6\n",
      "Zhou Qiang的个数: 6\n",
      "Music的个数: 5199\n",
      "Dance的个数: 180\n",
      "C919 aircraft的个数: 10\n",
      "Ministry of Human Resources and Social Security的个数: 31\n"
     ]
    }
   ],
   "source": [
    "target = train_set['target']\n",
    "data = train_set['data']\n",
    "\n",
    "c_max = 0\n",
    "record_n = []\n",
    "record_t = []\n",
    "for i in set(target): # 统计分类下文章个数\n",
    "    if target.count(i) > c_max:\n",
    "        c_max = target.count(i)\n",
    "        record_n.append(str(i))\n",
    "        record_t.append(i)\n",
    "    print('{}的个数: {}'.format(i, target.count(i)))"
   ]
  },
  {
   "cell_type": "code",
   "execution_count": 6,
   "metadata": {
    "scrolled": false
   },
   "outputs": [
    {
     "name": "stdout",
     "output_type": "stream",
     "text": [
      "CPU times: user 6 µs, sys: 1e+03 ns, total: 7 µs\n",
      "Wall time: 14.8 µs\n",
      "初始数据集大小: 1671674 - 1671674\n",
      "Sport的数量: 160266\n",
      "Americas的数量: 141462\n",
      "Europe的数量: 164833\n",
      "Mid_East的数量: 69737\n",
      "Economy的数量: 174037\n",
      "Politics的数量: 130161\n",
      "Military的数量: 105995\n",
      "Life的数量: 124238\n",
      "Companies的数量: 115362\n",
      "SouthAsia的数量: 131027\n"
     ]
    }
   ],
   "source": [
    "%time\n",
    "\"\"\"合并小分类 -> 大分类\"\"\"\n",
    "Sport = [\n",
    "    'Soccer', 'Basketball', 'Baseball', 'Rugby', 'Hockey', 'Tennis', 'Golf',\n",
    "    'Winter Sport', 'Olympics', 'Motorsport', 'Boxing', 'Eye on the Ball',\n",
    "    'Track and Field', 'Water Sport', 'Miscellany', 'SPORT', 'SPORTS'\n",
    "]\n",
    "Americas = ['Americas', 'AMERICAS']\n",
    "Europe = ['Europe', 'EUROPE']\n",
    "Mid_East = ['Mid-East', 'MID_EAST','MID_east']\n",
    "Economy = ['Eye on The Economy', 'Economy']\n",
    "Politics = ['Politics', 'POLITICS', 'Politics']\n",
    "Military = ['Military', 'Diplomacy', 'MILITARY']\n",
    "Life = ['LIFE', 'PHOTOS', 'life']\n",
    "Companies = ['COMPANIES', 'Companies']\n",
    "SouthAsia = ['Central & South Asia', 'CENTRAL & SOUTH ASIA', 'Miscellany']\n",
    "\n",
    "categorys = [\n",
    "    Sport, Americas, Europe, Mid_East, Economy, Politics, Military, Life,\n",
    "    Companies, SouthAsia\n",
    "]  # 十个类别\n",
    "\n",
    "print('初始数据集大小: {} - {}'.format(len(train_set['data']),\n",
    "                                len(train_set['target'])))\n",
    "SPORT, AMERICAS, EUROPE, MID_EAST, ECONOMY, POLITICS, MILITARY, LIFE, \\\n",
    "    COMPANY, SOUTHASIA = [],[],[],[],[],[],[],[],[],[]\n",
    "stores = [\n",
    "    SPORT, AMERICAS, EUROPE, MID_EAST, ECONOMY, POLITICS, MILITARY, LIFE,\n",
    "    COMPANY, SOUTHASIA\n",
    "]\n",
    "# 分类\n",
    "\n",
    "for category, store in zip(categorys, stores):\n",
    "    for index, i in (enumerate(zip(train_set['data'], train_set['target']))):\n",
    "        for item in category:\n",
    "            if i[1].lower() in item.lower():\n",
    "                # 填充分类数据\n",
    "                store.append(i[0])\n",
    "                if len(store) > 155000:\n",
    "                    break;\n",
    "                #数据集中删除数据\n",
    "#                 del train_set['data'][index]\n",
    "#                 del train_set['target'][index]\n",
    "#     print('个数: {}'.format(len(store)))\n",
    "#     print('数据集大小: {} - {}'.format(len(train_set['data']),\n",
    "#                                   len(train_set['target'])))\n",
    "\n",
    "# 分类持久化数据\n",
    "category_name = [\n",
    "    'Sport', 'Americas', 'Europe', 'Mid_East', 'Economy', 'Politics',\n",
    "    'Military', 'Life', 'Companies', 'SouthAsia'\n",
    "]\n",
    "for file_name, file in zip(category_name, stores):\n",
    "    f = open('{}.pkl'.format(file_name), 'wb')\n",
    "    print('{}的数量: {}'.format(file_name, len(file)))\n",
    "    pickle.dump(file, f)\n",
    "    f.close()"
   ]
  },
  {
   "cell_type": "code",
   "execution_count": 7,
   "metadata": {},
   "outputs": [
    {
     "name": "stdout",
     "output_type": "stream",
     "text": [
      "CPU times: user 7 µs, sys: 0 ns, total: 7 µs\n",
      "Wall time: 14.5 µs\n",
      "0的个数：160266\n",
      "1的个数：141462\n",
      "2的个数：164833\n",
      "3的个数：69737\n",
      "4的个数：174037\n",
      "5的个数：130161\n",
      "6的个数：105995\n",
      "7的个数：124238\n",
      "8的个数：115362\n",
      "9的个数：131027\n"
     ]
    }
   ],
   "source": [
    "%time\n",
    "# 制作数据集\n",
    "X = []  # list[str]\n",
    "y = []  # list[int] int: category_name中的下标\n",
    "for index, fileName in enumerate(category_name):\n",
    "    fr = open('{}.pkl'.format(fileName), 'rb')\n",
    "    categoty_data = []\n",
    "    categoty_data = pickle.load(fr)\n",
    "    for data in categoty_data:\n",
    "        X.append(data)\n",
    "        y.append(index)\n",
    "    fr.close()\n",
    "    \n",
    "f = open('X', 'wb')\n",
    "pickle.dump(X, f)\n",
    "f.close()\n",
    "\n",
    "f = open('y', 'wb')\n",
    "pickle.dump(y, f)\n",
    "f.close()\n",
    "\n",
    "for i in set(y): # 统计分类下文章个数\n",
    "    print('%s的个数：%s' %(i,y.count(i)))"
   ]
  },
  {
   "cell_type": "markdown",
   "metadata": {},
   "source": [
    "## Train Test dataset split"
   ]
  },
  {
   "cell_type": "code",
   "execution_count": 8,
   "metadata": {},
   "outputs": [
    {
     "name": "stdout",
     "output_type": "stream",
     "text": [
      "训练集大小:583066\n",
      "测试集大小:583067\n"
     ]
    }
   ],
   "source": [
    "from sklearn.model_selection import train_test_split\n",
    "\n",
    "X = []\n",
    "y = []\n",
    "fr_X = open('X_now.pkl', 'rb')\n",
    "X = pickle.load(fr_X)\n",
    "fr_X.close()\n",
    "fr_y = open('y_now.pkl', 'rb')\n",
    "y = pickle.load(fr_y)\n",
    "fr_y.close()\n",
    "\n",
    "# X, y = np.arange(10).reshape((5, 2)), range(5)\n",
    "X_train, X_test, y_train, y_test = train_test_split(X, y, test_size=0.5, random_state=42)\n",
    "\n",
    "print('训练集大小:{}'.format(len(X_train)))\n",
    "print('测试集大小:{}'.format(len(X_test)))"
   ]
  },
  {
   "cell_type": "markdown",
   "metadata": {},
   "source": [
    "## 2. Data preprocessing"
   ]
  },
  {
   "cell_type": "markdown",
   "metadata": {},
   "source": [
    "### Data Cleaning:  regular expersion"
   ]
  },
  {
   "cell_type": "code",
   "execution_count": 9,
   "metadata": {
    "scrolled": true
   },
   "outputs": [
    {
     "name": "stdout",
     "output_type": "stream",
     "text": [
      "CPU times: user 6 µs, sys: 1e+03 ns, total: 7 µs\n",
      "Wall time: 14.8 µs\n"
     ]
    }
   ],
   "source": [
    "%time\n",
    "import re\n",
    "\n",
    "r1 = \"\\\\【.*?】+|\\\\《.*?》+|\\\\#.*?#+|[.!/_,$&%^*()<>+\" \"'?@|:~{}#]+|[——！\\\\\\，。=？、：“”‘’￥……（）《》【】]\"\n",
    "r2 = '[\\001\\002\\003\\004\\005\\006\\007\\x08\\x09\\x0a\\x0b\\x0c\\x0d\\x0e\\x0f\\x10\\x11\\x12\\x13\\x14\\x15\\x16\\x17\\x18\\x19\\x1a]+'\n",
    "\n",
    "\"\"\"\n",
    "sentence = \"hello! wo?rd!. \\n\\n\\n\\n      \\n ,,,,,\\t\\t\\t\\t ////t/t/t/t /n/n//n\"\n",
    "\n",
    "cleanr = re.compile('<.*?>') # 匹配HTML标签规则\n",
    "sentence = re.sub(cleanr, '', sentence)  # 去除HTML标签\n",
    "sentence = re.sub(r1, '', sentence) \n",
    "sentence = re.sub(r2, '', sentence)\n",
    "print(sentence)\n",
    "\"\"\"\n",
    "def find_unchinese(file):\n",
    "    pattern = re.compile(r'[\\u4e00-\\u9fa5]')\n",
    "    unchinese = re.sub(pattern,\"\",file)\n",
    "    return unchinese\n",
    "\n",
    "cleanr = re.compile('<.*?>') # 匹配HTML标签规则\n",
    "for index, sentence in enumerate(X_train):\n",
    "    sentence = ''.join(sentence) # list -> str\n",
    "    sentence = re.sub(cleanr, '', sentence)  # 去除HTML标签\n",
    "    sentence = re.sub(r1, '', sentence) \n",
    "    sentence = re.sub(r2, '', sentence)\n",
    "    sentence = sentence.lower() # to lower case\n",
    "    find_unchinese(sentence)\n",
    "    X_train[index] = sentence\n",
    "    \n",
    "for index, sentence in enumerate(X_test):\n",
    "    sentence = ''.join(sentence) # list -> str\n",
    "    sentence = re.sub(cleanr, '', sentence)  # 去除HTML标签\n",
    "    sentence = re.sub(r1, '', sentence) \n",
    "    sentence = re.sub(r2, '', sentence)\n",
    "    sentence = sentence.lower()\n",
    "    find_unchinese(sentence)\n",
    "    X_test[index] = sentence"
   ]
  },
  {
   "cell_type": "code",
   "execution_count": 10,
   "metadata": {},
   "outputs": [
    {
     "name": "stdout",
     "output_type": "stream",
     "text": [
      "                                head of atomic energy organization of iran ali-akbar salehi said that the islamic republic is ready to allay the wests concerns over its controversial nuclear program tehran times daily reported saturday\"we acknowledge their concerns and are ready to ease them by international conventions\" said salehi without specifying the issues that might be the source of controversyin past nuclear talks irans high-grade uranium enrichment activities and its refusal to give inspectors access to certain military sites suspected of nuclear experiments had been hampering progress in resolving its nuclear issueiran and the international atomic energy agency iaea last met in may and failed to achieve any breakthrough that would allow the un unclear watchdog to carry out further investigations into tehrans nuclear activitiesthe two sides are scheduled to hold their next round of talks in vienna on sept 27 while salehi stressed \"our principles have not changed and we have always demanded our rights under the nuclear non-proliferation treaty and the statute of the iaea\" he noted iranian negotiators will try to help find a \"win-win solution\" to the issuemoreover irans moderate president hassan rouhani has pledged much \"transparency\" in the nuclear program with the international communityon thursday rouhani tasked the iranian foreign ministry with conducting the upcoming nuclear talks with the p51 the five permanent un security council members plus germany a move deemed likely to reduce the influence of hardliners on the process of talksboth the iranian government and the six world powers showed interest in resuming nuclear talks after their last round of negotiations held in almaty kazakhstan in april although the meeting did not produce many practical results                                                                             \n",
      "       for most of his career political advisor zhou zhonghe has been digging in the dirtor experimenting in labs to try to find the secrets hidden in fossils zhou an academician of the chinese academy of sciences cas and a foreign associate of the national academy of sciences of the united states is well-known by his international paleontology peers for discovering dozens of new species of fossils that shed light on the origins of bird species \"science requires so much concentration that i dream about fossils very often\" he said zhou will look beyond his own field when he steps into the great hall of the people as a member of the national committee of the chinese peoples political consultative conference cppcc the countrys top political advisory body he has called for improvements to evaluation systems to help improve the weak links in basic science research in china at the ongoing first session of the 13th national committee of the cppcc in beijing \"for quite a long time the country had been pursuing rapid economic development which fostered a pragmatic approach to science\" he said \"the notions of science and technology have often been confused with one another\" \"science is more about satisfying the innate curiosity of humanity basic research usually has no immediate use but is just an earnest quest to discover the truth\" he said over the past two decades such curiosity and earnestness have led zhou and his team at the institute of vertebrate paleontology and paleoanthropology to a series of astonishing discoveries which have been widely covered by western media sources including the bbc cnn and the guardian their most famous discoveries include the fossils of primitive birds and feathered dinosaurs which provided solid evidence for the theory that birds descend from dinosaurs \"paleontology is among the few basic science fields in which china has been a world leader\" zhou said adding that this is partly due to chinas vast territory which boasts diversified geological landscapes and rich stores of fossils china will strengthen basic research and application-oriented basic research in an effort to create a country of innovators premier li keqiang said when delivering a government work report on march 5 at the annual session of the 13th national peoples congress npc the countrys top legislature a number of major science and technology innovation programs and national laboratories will be launched according to the report \"besides governmental support it is also important to increase public understanding of basic science which is critical to the sustained growth and success of the field\" zhou said he has been giving lectures on the theory of evolution at various events \"paleontology can help the public understand that evolution is real and help remove some misunderstandings about evolutionism\" he said members of the cppcc include many professionals and intellectuals among the 2158 national political advisors 105 are academicians of the chinese academy of sciences cas and chinese academy of engineering including experts in fields such as biology space technology and quantum communication zhous concerns have been shared by other scientists at the session political advisor and researcher at national space science center cas wu ji suggested that china should undertake more state-organized research to promote achievements in major basic science fields \"breakthroughs in basic science are an important barometer of a world leader in science\" he said political advisor and cas geophysicist zhu rixiang also called for reform in talent evaluation systems to improve basic science \"the cppcc session has been an ideal platform for us to voice our concerns and push ahead with reforms\" zhou said in january the state council issued a guideline that promised more support for basic science aiming to become a leader in world science and innovation in about 30 years according to statistics from the ministry of science and technology chinas financial input in ramp;d for basic science has doubled from 412 billion yuan about 65 billion us dollars in 2011 to 823 billion yuan in 2016              \n"
     ]
    }
   ],
   "source": [
    "print(X_train[211])\n",
    "print(X_test[211])"
   ]
  },
  {
   "cell_type": "markdown",
   "metadata": {},
   "source": [
    "### Data Cleaning: stop words"
   ]
  },
  {
   "cell_type": "code",
   "execution_count": 11,
   "metadata": {
    "scrolled": true
   },
   "outputs": [
    {
     "name": "stderr",
     "output_type": "stream",
     "text": [
      "3it [00:00, 27.52it/s]"
     ]
    },
    {
     "name": "stdout",
     "output_type": "stream",
     "text": [
      "English Stop Words List：\n",
      " {'this', 'over', \"weren't\", 'were', 'nor', 'your', 'are', 'until', 'herself', 'both', 'hasn', 'our', 'too', 'about', 'how', 'my', \"it's\", 'if', 'ourselves', 'hers', 'have', 'here', 'once', 'll', 'who', 'i', 're', 'above', 'off', 'me', 'his', 'their', 'did', 'these', 'having', 'by', \"she's\", 'we', 'more', 'wouldn', \"you'd\", 'am', 'ours', 'out', 'myself', 'but', 'can', 'won', 'any', 'ma', 'now', 'than', \"wouldn't\", 'from', 'they', 'for', 'yours', 'a', 'under', \"hasn't\", 'isn', 'aren', \"mustn't\", \"didn't\", 'them', 'you', 'just', 'y', 'with', 'there', 't', 'as', \"mightn't\", 'same', 'hadn', 'being', 'again', 'the', 'him', 'whom', 'in', 'haven', 'between', 'on', 'such', 'didn', 'other', 'when', 's', 'd', 'only', 'to', 'each', 'into', 'where', 'what', 'before', 'should', 'o', 'an', 'himself', \"you've\", 'will', 'those', 'yourselves', 'after', 'all', 'is', \"won't\", 'doing', 'been', 'or', 've', 'mightn', 'down', 'through', \"needn't\", 'she', \"don't\", \"hadn't\", 'own', 'do', \"wasn't\", 'yourself', 'he', 'of', 'weren', 'very', 'was', 'couldn', 'her', 'then', 'because', 'most', 'm', 'and', 'while', \"couldn't\", 'theirs', 'up', 'some', \"isn't\", 'shan', 'few', \"shan't\", \"should've\", 'why', 'that', 'during', 'had', 'ain', 'so', 'it', \"shouldn't\", 'which', 'does', 'doesn', \"aren't\", 'themselves', 'no', 'at', \"that'll\", \"doesn't\", 'not', 'against', 'mustn', 'wasn', 'shouldn', 'needn', 'its', \"haven't\", 'don', \"you're\", 'be', 'below', \"you'll\", 'has', 'itself', 'further'}\n"
     ]
    },
    {
     "name": "stderr",
     "output_type": "stream",
     "text": [
      "200it [00:10, 18.62it/s]"
     ]
    },
    {
     "name": "stdout",
     "output_type": "stream",
     "text": [
      "                                sebastian vettel poses laureus sportsman trophy kuala lumpur wednesday photo cfpmissy franklin poses laureus sportswoman trophy kuala lumpur wednesday photo cfpformula one world champion sebastian vettel swim star missy franklin named laureus sportsman woman year wednesday ceremony malaysia tinged tragedy mh370 plane ­disastergermanys treble-winners bayern munich beat rugbys blacks team 2013 rafael nadal comeback year glamorous awards show downtown kuala lumpurthe ceremony packed greats world sport preceded moments silence 239 ­people killed flight mh370 crashed indian ocean still unexplained circumstancesvettel f1s youngest four-time world champion kuala lumpur weeks malaysian grand prix sportsman 2013 ahead usain bolt lebron james nadal cristiano ronaldo mo farahfranklin 18 beat tennis great serena williams russian pole vault queen yelena isinbayeva among others womens award record six golds last years world championshipsspains nadal comeback year amazing recovery career-threatening knee injury french open us open returned world no1afghanistans cricket team ­honored spirit sport award feat rising  camps long-running conflict qualify 2015 world cupspanish motogp rider marc marquez breakthrough year becoming sports youngest-ever world champion age 20 years 266 daysskier marie bochet france born without left forearm named best sportsperson ­disability british bmx rider jamie bestwick action sports awardthe winners chosen secret ballot 46-strong panel sporting greats widely televised show moved rio de janeiro authorities brazil seen protests hosting world cup became ­concerned reaction spending public money eventafp - global times                                       refugee                                     \n"
     ]
    },
    {
     "name": "stderr",
     "output_type": "stream",
     "text": [
      "\n"
     ]
    }
   ],
   "source": [
    "import nltk\n",
    "from nltk.tokenize import word_tokenize\n",
    "# nltk.download()\n",
    "# nltk.download('stopwords')\n",
    "\"\"\"引入停用词表\"\"\"\n",
    "from nltk.corpus import stopwords\n",
    "stop = set(stopwords.words('english'))\n",
    "print('English Stop Words List：\\n', stop)\n",
    "\n",
    "# sentence = \"this is a apple\"\n",
    "# filter_sentence = [\n",
    "#     w for w in sentence.split(' ') if w not in stopwords.words('english')\n",
    "# ]\n",
    "# print(filter_sentence)\n",
    "\n",
    "X_train_sw = X_train[:200]\n",
    "\"\"\"匹配停用词\"\"\"\n",
    "for index, item in tqdm(enumerate(X_train_sw)):\n",
    "    X_train[index] = \" \".join([\n",
    "        w for w in X_train[index].split(' ')\n",
    "        if w not in stopwords.words('english')\n",
    "    ])\n",
    "print(X_train[20])\n",
    "\n",
    "# for index, item in tqdm(enumerate(X_test)):\n",
    "#     X_test[index] = \" \".join([\n",
    "#         w for w in X_test[index].split(' ')\n",
    "#         if w not in stopwords.words('english')\n",
    "#     ])\n",
    "# print(X_test[90001])"
   ]
  },
  {
   "cell_type": "markdown",
   "metadata": {},
   "source": [
    "### Normalization: lemmatization"
   ]
  },
  {
   "cell_type": "code",
   "execution_count": 12,
   "metadata": {
    "scrolled": true
   },
   "outputs": [
    {
     "name": "stderr",
     "output_type": "stream",
     "text": [
      "100it [00:00, 3744.15it/s]\n",
      "[nltk_data] Downloading package wordnet to /root/nltk_data...\n",
      "[nltk_data]   Package wordnet is already up-to-date!\n",
      "583066it [00:09, 63529.36it/s]\n",
      "583067it [00:04, 141456.82it/s]\n"
     ]
    }
   ],
   "source": [
    "\"\"\"stemming -- 词干提取(no use)\"\"\"\n",
    "from nltk.stem import SnowballStemmer\n",
    "stemmer = SnowballStemmer(\"english\") # 选择语言\n",
    "# stemmer.stem(\"leaves\") # 词干化单词\n",
    "X_stem = X_train[:nowLen]\n",
    "for index, item in tqdm(enumerate(X_stem)):\n",
    "    X_stem[index] = stemmer.stem(item)\n",
    "\n",
    "\"\"\"lemmatization -- 词型还原(use)\"\"\"\n",
    "from nltk.stem import WordNetLemmatizer \n",
    "nltk.download('wordnet')\n",
    "wnl = WordNetLemmatizer()\n",
    "# print(wnl.lemmatize('leaves'))\n",
    "\n",
    "# for i in tqdm(range(len(train_set.data))):\n",
    "#     train_set[i] = wnl.lemmatize(train_set.data[i])    \n",
    "# print(train_set.data[:1])\n",
    "\n",
    "for index, item in tqdm(enumerate(X_train)):\n",
    "    X_train[index] = wnl.lemmatize(item)\n",
    "for index, item in tqdm(enumerate(X_test)):\n",
    "    X_test[index] = wnl.lemmatize(item)"
   ]
  },
  {
   "cell_type": "code",
   "execution_count": 13,
   "metadata": {
    "scrolled": true
   },
   "outputs": [
    {
     "name": "stdout",
     "output_type": "stream",
     "text": [
      "词干提取:\n",
      "                                south korean shares rose wednesday upbeat economic data china eased market concerns caused scheduled congressional testimony federal reserve chairman ben bernankethe benchmark korea composite stock price index rose 2113 points 113 percent close 188749 trading volume stood 37845 million shares worth 397 trillion 354 billion us dollarschinas foreign direct investment surprisingly jumped 20 percent june year earlier figure eased worries chinas economic slowdownforeign investors maintained buying streak five straight sessions stock purchases worth 1195 billion institutional investors bought stocks worth 2399 billion turning net buyers five trading days retail investors sold shares worth 3528 billion bid lock profitsconcerns however remained early exit us quantitative easing ahead bernankes testimony us congress slated wednesday thursdaymarket bellwether samsung electronics gained 17 percent top automaker hyundai motor advanced 28 percent no2 carmaker kia motors added 14 percent nations biggest auto parts maker hyundai mobis rose 12 percentthe local currency finished 11216 greenback 36 tuesdays closebond prices ended lower yield liquid three-year treasury notes rose 001 percentage point 289 percent return benchmark 10-year government bonds added 003 percentage point 347 percent                                                                             \n",
      "词型还原:\n",
      "                                head of atomic energy organization of iran ali-akbar salehi said that the islamic republic is ready to allay the wests concerns over its controversial nuclear program tehran times daily reported saturday\"we acknowledge their concerns and are ready to ease them by international conventions\" said salehi without specifying the issues that might be the source of controversyin past nuclear talks irans high-grade uranium enrichment activities and its refusal to give inspectors access to certain military sites suspected of nuclear experiments had been hampering progress in resolving its nuclear issueiran and the international atomic energy agency iaea last met in may and failed to achieve any breakthrough that would allow the un unclear watchdog to carry out further investigations into tehrans nuclear activitiesthe two sides are scheduled to hold their next round of talks in vienna on sept 27 while salehi stressed \"our principles have not changed and we have always demanded our rights under the nuclear non-proliferation treaty and the statute of the iaea\" he noted iranian negotiators will try to help find a \"win-win solution\" to the issuemoreover irans moderate president hassan rouhani has pledged much \"transparency\" in the nuclear program with the international communityon thursday rouhani tasked the iranian foreign ministry with conducting the upcoming nuclear talks with the p51 the five permanent un security council members plus germany a move deemed likely to reduce the influence of hardliners on the process of talksboth the iranian government and the six world powers showed interest in resuming nuclear talks after their last round of negotiations held in almaty kazakhstan in april although the meeting did not produce many practical results                                                                             \n",
      "       for most of his career political advisor zhou zhonghe has been digging in the dirtor experimenting in labs to try to find the secrets hidden in fossils zhou an academician of the chinese academy of sciences cas and a foreign associate of the national academy of sciences of the united states is well-known by his international paleontology peers for discovering dozens of new species of fossils that shed light on the origins of bird species \"science requires so much concentration that i dream about fossils very often\" he said zhou will look beyond his own field when he steps into the great hall of the people as a member of the national committee of the chinese peoples political consultative conference cppcc the countrys top political advisory body he has called for improvements to evaluation systems to help improve the weak links in basic science research in china at the ongoing first session of the 13th national committee of the cppcc in beijing \"for quite a long time the country had been pursuing rapid economic development which fostered a pragmatic approach to science\" he said \"the notions of science and technology have often been confused with one another\" \"science is more about satisfying the innate curiosity of humanity basic research usually has no immediate use but is just an earnest quest to discover the truth\" he said over the past two decades such curiosity and earnestness have led zhou and his team at the institute of vertebrate paleontology and paleoanthropology to a series of astonishing discoveries which have been widely covered by western media sources including the bbc cnn and the guardian their most famous discoveries include the fossils of primitive birds and feathered dinosaurs which provided solid evidence for the theory that birds descend from dinosaurs \"paleontology is among the few basic science fields in which china has been a world leader\" zhou said adding that this is partly due to chinas vast territory which boasts diversified geological landscapes and rich stores of fossils china will strengthen basic research and application-oriented basic research in an effort to create a country of innovators premier li keqiang said when delivering a government work report on march 5 at the annual session of the 13th national peoples congress npc the countrys top legislature a number of major science and technology innovation programs and national laboratories will be launched according to the report \"besides governmental support it is also important to increase public understanding of basic science which is critical to the sustained growth and success of the field\" zhou said he has been giving lectures on the theory of evolution at various events \"paleontology can help the public understand that evolution is real and help remove some misunderstandings about evolutionism\" he said members of the cppcc include many professionals and intellectuals among the 2158 national political advisors 105 are academicians of the chinese academy of sciences cas and chinese academy of engineering including experts in fields such as biology space technology and quantum communication zhous concerns have been shared by other scientists at the session political advisor and researcher at national space science center cas wu ji suggested that china should undertake more state-organized research to promote achievements in major basic science fields \"breakthroughs in basic science are an important barometer of a world leader in science\" he said political advisor and cas geophysicist zhu rixiang also called for reform in talent evaluation systems to improve basic science \"the cppcc session has been an ideal platform for us to voice our concerns and push ahead with reforms\" zhou said in january the state council issued a guideline that promised more support for basic science aiming to become a leader in world science and innovation in about 30 years according to statistics from the ministry of science and technology chinas financial input in ramp;d for basic science has doubled from 412 billion yuan about 65 billion us dollars in 2011 to 823 billion yuan in 2016              \n"
     ]
    }
   ],
   "source": [
    "print(\"词干提取:\")\n",
    "print(X_stem[nowLen -1])\n",
    "\n",
    "print(\"词型还原:\")\n",
    "print(\"{}\".format(X_train[211]))\n",
    "print(\"{}\".format(X_test[211]))"
   ]
  },
  {
   "cell_type": "markdown",
   "metadata": {},
   "source": [
    "### Extracting Features"
   ]
  },
  {
   "cell_type": "code",
   "execution_count": 14,
   "metadata": {
    "scrolled": true
   },
   "outputs": [
    {
     "name": "stdout",
     "output_type": "stream",
     "text": [
      "CPU times: user 14 µs, sys: 1e+03 ns, total: 15 µs\n",
      "Wall time: 30 µs\n",
      "(583066, 554883)\n",
      "  (0, 489607)\t1\n",
      "  (0, 535670)\t1\n",
      "  (0, 534822)\t1\n",
      "  (0, 231986)\t1\n",
      "  (0, 247731)\t7\n",
      "  (0, 199258)\t1\n",
      "  (0, 282446)\t2\n",
      "  (0, 524331)\t1\n",
      "  (0, 404163)\t1\n",
      "  (0, 53789)\t1\n",
      "  (0, 506297)\t1\n",
      "  (0, 437772)\t1\n",
      "  (0, 492905)\t1\n",
      "  (0, 420693)\t2\n",
      "  (0, 218882)\t1\n",
      "  (0, 301086)\t1\n",
      "  (0, 533165)\t3\n",
      "  (0, 306073)\t1\n",
      "  (0, 359582)\t1\n",
      "  (0, 46980)\t1\n",
      "  (0, 486830)\t21\n",
      "  (0, 180250)\t2\n",
      "  (0, 494642)\t10\n",
      "  (0, 84257)\t1\n",
      "  (0, 430201)\t1\n",
      "  :\t:\n",
      "  (0, 181038)\t1\n",
      "  (0, 399776)\t1\n",
      "  (0, 252991)\t1\n",
      "  (0, 188569)\t1\n",
      "  (0, 227767)\t1\n",
      "  (0, 408291)\t1\n",
      "  (0, 259356)\t1\n",
      "  (0, 208605)\t1\n",
      "  (0, 47136)\t1\n",
      "  (0, 508470)\t1\n",
      "  (0, 384195)\t1\n",
      "  (0, 500299)\t1\n",
      "  (0, 465577)\t1\n",
      "  (0, 259400)\t1\n",
      "  (0, 229823)\t1\n",
      "  (0, 416386)\t2\n",
      "  (0, 371606)\t1\n",
      "  (0, 129682)\t1\n",
      "  (0, 481437)\t1\n",
      "  (0, 154825)\t1\n",
      "  (0, 229117)\t1\n",
      "  (0, 479771)\t1\n",
      "  (0, 409940)\t1\n",
      "  (0, 59660)\t1\n",
      "  (0, 377787)\t1\n",
      "X_train_tfidf shape: (583066, 554883)\n",
      "  (0, 535670)\t0.026630263579985207\n",
      "  (0, 534822)\t0.030736027537708467\n",
      "  (0, 533313)\t0.03960350937178943\n",
      "  (0, 533165)\t0.04680477724605426\n",
      "  (0, 532063)\t0.08473072657605528\n",
      "  (0, 531818)\t0.01909205383464833\n",
      "  (0, 530871)\t0.028365048922504337\n",
      "  (0, 530543)\t0.08365294543937032\n",
      "  (0, 525267)\t0.054391379161867356\n",
      "  (0, 524331)\t0.060060525195865605\n",
      "  (0, 518129)\t0.07057333952746854\n",
      "  (0, 512394)\t0.06888804830880306\n",
      "  (0, 511780)\t0.05179305906369191\n",
      "  (0, 508470)\t0.031008276735856266\n",
      "  (0, 508212)\t0.0652012554932748\n",
      "  (0, 507737)\t0.08724411748181525\n",
      "  (0, 506297)\t0.02312559365779015\n",
      "  (0, 502345)\t0.0512652028244342\n",
      "  (0, 500299)\t0.06111674008149345\n",
      "  (0, 499534)\t0.06000197561181363\n",
      "  (0, 494642)\t0.11565276016380778\n",
      "  (0, 492905)\t0.034066630077995166\n",
      "  (0, 489607)\t0.03155143050379162\n",
      "  (0, 487052)\t0.03252717704422727\n",
      "  (0, 487021)\t0.06829790978224254\n",
      "  :\t:\n",
      "  (0, 108437)\t0.04807555476514131\n",
      "  (0, 102680)\t0.016020290599163954\n",
      "  (0, 97491)\t0.06577309749780574\n",
      "  (0, 84875)\t0.022060951618623974\n",
      "  (0, 84257)\t0.01903228390352608\n",
      "  (0, 72940)\t0.13264892443506476\n",
      "  (0, 67188)\t0.040256901292703845\n",
      "  (0, 66176)\t0.039933875419846394\n",
      "  (0, 64689)\t0.03355614582043335\n",
      "  (0, 62307)\t0.08129310739506526\n",
      "  (0, 60347)\t0.04671962668377601\n",
      "  (0, 60149)\t0.04673070336363527\n",
      "  (0, 59660)\t0.0868400642624655\n",
      "  (0, 59484)\t0.047963994140286584\n",
      "  (0, 58984)\t0.08882751906856808\n",
      "  (0, 58524)\t0.054507510628338265\n",
      "  (0, 57315)\t0.07160023905255948\n",
      "  (0, 53789)\t0.037706851269916596\n",
      "  (0, 53016)\t0.022000052010091562\n",
      "  (0, 47136)\t0.08431990060687508\n",
      "  (0, 46980)\t0.04508473403183537\n",
      "  (0, 46397)\t0.07707745735698404\n",
      "  (0, 46227)\t0.05078602601540232\n",
      "  (0, 45386)\t0.04949387963250107\n",
      "  (0, 23260)\t0.04711630998927413\n"
     ]
    }
   ],
   "source": [
    "%time\n",
    "\"\"\"build data dict\"\"\"\n",
    "from sklearn.feature_extraction.text import CountVectorizer\n",
    "count_vect = CountVectorizer()  # 特征向量计数函数\n",
    "X_train_counts = count_vect.fit_transform(X_train)  # 对文本进行特征向量处理\n",
    "print(X_train_counts.shape)\n",
    "print(X_train_counts[211])\n",
    "\n",
    "\"\"\"TF-IDF: Term Frequency-Inverse Document Frequency\"\"\"\n",
    "from sklearn.feature_extraction.text import TfidfTransformer\n",
    "tfidf_transformer = TfidfTransformer()\n",
    "X_train_tfidf = tfidf_transformer.fit_transform(X_train_counts)\n",
    "\n",
    "print('X_train_tfidf shape: {}'.format(X_train_tfidf.shape))\n",
    "print(X_train_tfidf[211])"
   ]
  },
  {
   "cell_type": "markdown",
   "metadata": {},
   "source": [
    "## 3. Bayes Classifier"
   ]
  },
  {
   "cell_type": "markdown",
   "metadata": {},
   "source": [
    "### 3.1 Train Bayes"
   ]
  },
  {
   "cell_type": "code",
   "execution_count": 15,
   "metadata": {
    "scrolled": false
   },
   "outputs": [
    {
     "name": "stdout",
     "output_type": "stream",
     "text": [
      "CPU times: user 6 µs, sys: 0 ns, total: 6 µs\n",
      "Wall time: 14.3 µs\n",
      " Show gaussianNB_pipeline:\n",
      " Pipeline(memory=None,\n",
      "         steps=[('Vectorizer',\n",
      "                 CountVectorizer(analyzer='word', binary=False,\n",
      "                                 decode_error='strict',\n",
      "                                 dtype=<class 'numpy.int64'>, encoding='utf-8',\n",
      "                                 input='content', lowercase=True, max_df=0.5,\n",
      "                                 max_features=None, min_df=1,\n",
      "                                 ngram_range=(1, 1), preprocessor=None,\n",
      "                                 stop_words='english', strip_accents=None,\n",
      "                                 token_pattern='(?u)\\\\b\\\\w\\\\w+\\\\b',\n",
      "                                 tokenizer=None, vocabulary=None)),\n",
      "                ('TF_IDF',\n",
      "                 TfidfTransformer(norm='l2', smooth_idf=True,\n",
      "                                  sublinear_tf=False, use_idf=True)),\n",
      "                ('MultinomialNB',\n",
      "                 MultinomialNB(alpha=0.0001, class_prior=None,\n",
      "                               fit_prior=True))],\n",
      "         verbose=False)\n"
     ]
    }
   ],
   "source": [
    "%time\n",
    "from sklearn.naive_bayes import MultinomialNB\n",
    "from sklearn.pipeline import Pipeline\n",
    "\n",
    "multinomialNB_pipeline = Pipeline([('Vectorizer',\n",
    "                                    CountVectorizer(stop_words='english',\n",
    "                                                    ngram_range=(1,1),\n",
    "                                                    max_df=0.5)),\n",
    "                                   ('TF_IDF', TfidfTransformer(use_idf=True)),\n",
    "                                   ('MultinomialNB', MultinomialNB(alpha=1e-4))]) # 1e-5\n",
    "multinomialNB_pipeline.fit(X_train, y_train)\n",
    "print(\" Show gaussianNB_pipeline:\\n\", multinomialNB_pipeline)"
   ]
  },
  {
   "cell_type": "markdown",
   "metadata": {},
   "source": [
    "### 3.2 Evaluation Bayes"
   ]
  },
  {
   "cell_type": "code",
   "execution_count": 16,
   "metadata": {
    "scrolled": true
   },
   "outputs": [
    {
     "name": "stdout",
     "output_type": "stream",
     "text": [
      "CPU times: user 0 ns, sys: 6 µs, total: 6 µs\n",
      "Wall time: 14.3 µs\n",
      "              precision    recall  f1-score   support\n",
      "\n",
      "       Sport     0.9973    0.9888    0.9930     51933\n",
      "    Americas     0.9925    0.9896    0.9911     52489\n",
      "      Europe     0.9919    0.9910    0.9914     62053\n",
      "    Mid_East     0.9891    0.9942    0.9917     55378\n",
      "     Economy     0.9867    0.9849    0.9858     56795\n",
      "    Politics     0.9857    0.9891    0.9874     55829\n",
      "    Military     0.9950    0.9869    0.9910     55423\n",
      "        Life     0.9917    0.9916    0.9917     55428\n",
      "   Companies     0.9839    0.9940    0.9889     55755\n",
      "   SouthAsia     0.9923    0.9942    0.9933     81984\n",
      "\n",
      "    accuracy                         0.9906    583067\n",
      "   macro avg     0.9906    0.9904    0.9905    583067\n",
      "weighted avg     0.9906    0.9906    0.9906    583067\n",
      "\n"
     ]
    }
   ],
   "source": [
    "%time\n",
    "from sklearn.metrics import classification_report, confusion_matrix\n",
    "\n",
    "# test_set = fetch_20newsgroups(subset='test', shuffle=True, random_state=42)\n",
    "# docs_test = test_set.data\n",
    "predicted = multinomialNB_pipeline.predict(X_test)\n",
    "\n",
    "print(\n",
    "    classification_report(y_test,\n",
    "                          predicted,\n",
    "                          digits=4,\n",
    "                          target_names=category_name))"
   ]
  },
  {
   "cell_type": "code",
   "execution_count": 17,
   "metadata": {},
   "outputs": [
    {
     "data": {
      "image/png": "[encoded data removed]",
      "text/plain": [
       "<Figure size 1080x1080 with 2 Axes>"
      ]
     },
     "metadata": {
      "needs_background": "light"
     },
     "output_type": "display_data"
    }
   ],
   "source": [
    "# calculate confusion_matrix and plot it\n",
    "confusion_mat = confusion_matrix(y_test, predicted)\n",
    "fig, ax = plt.subplots(figsize=(15, 15))\n",
    "sns.heatmap(confusion_mat,\n",
    "            annot=True,\n",
    "            fmt='d',\n",
    "            cmap=\"RdPu\",\n",
    "            linewidths=.3,\n",
    "            xticklabels=category_name,\n",
    "            yticklabels=category_name)\n",
    "plt.ylabel('Actual')\n",
    "plt.xlabel('Predicted')\n",
    "plt.show()"
   ]
  },
  {
   "cell_type": "markdown",
   "metadata": {},
   "source": [
    "## 4. SVM Classifier"
   ]
  },
  {
   "cell_type": "markdown",
   "metadata": {},
   "source": [
    "### 4.1 Train svm"
   ]
  },
  {
   "cell_type": "code",
   "execution_count": 18,
   "metadata": {},
   "outputs": [
    {
     "name": "stdout",
     "output_type": "stream",
     "text": [
      "CPU times: user 7 µs, sys: 0 ns, total: 7 µs\n",
      "Wall time: 14.3 µs\n",
      " Show SGDClassifier_pipline:\n",
      " Pipeline(memory=None,\n",
      "         steps=[('Vectorizer',\n",
      "                 CountVectorizer(analyzer='word', binary=False,\n",
      "                                 decode_error='strict',\n",
      "                                 dtype=<class 'numpy.int64'>, encoding='utf-8',\n",
      "                                 input='content', lowercase=True, max_df=0.5,\n",
      "                                 max_features=None, min_df=1,\n",
      "                                 ngram_range=(1, 3), preprocessor=None,\n",
      "                                 stop_words='english', strip_accents=None,\n",
      "                                 token_pattern='(?u)\\\\b\\\\w\\\\w+\\\\b',\n",
      "                                 tokenizer=None, voc...\n",
      "                ('SGDClassifier',\n",
      "                 SGDClassifier(alpha=1e-06, average=False, class_weight=None,\n",
      "                               early_stopping=False, epsilon=0.1, eta0=0.0,\n",
      "                               fit_intercept=True, l1_ratio=0.15,\n",
      "                               learning_rate='optimal', loss='hinge',\n",
      "                               max_iter=1000, n_iter_no_change=5, n_jobs=-1,\n",
      "                               penalty='l2', power_t=0.5, random_state=42,\n",
      "                               shuffle=True, tol=0.001, validation_fraction=0.1,\n",
      "                               verbose=0, warm_start=False))],\n",
      "         verbose=False)\n"
     ]
    }
   ],
   "source": [
    "%time\n",
    "from sklearn.linear_model import SGDClassifier\n",
    "\n",
    "SGDClassifier_pipline = Pipeline([('Vectorizer',\n",
    "                                   CountVectorizer(stop_words='english',\n",
    "                                                   ngram_range=(1,3),\n",
    "                                                   max_df=0.5)),\n",
    "                                  ('TF_IDF', TfidfTransformer(use_idf=True)),\n",
    "                                  ('SGDClassifier',\n",
    "                                   SGDClassifier(loss='hinge', # linear SVM\n",
    "                                                 penalty='l2', \n",
    "                                                 alpha=1e-6, # 1e-6\n",
    "                                                 n_jobs = -1,\n",
    "                                                 random_state=42))])\n",
    "SGDClassifier_pipline.fit(X_train, y_train)\n",
    "print(\" Show SGDClassifier_pipline:\\n\", SGDClassifier_pipline)"
   ]
  },
  {
   "cell_type": "markdown",
   "metadata": {},
   "source": [
    "### 4.2 Evaluation SVM"
   ]
  },
  {
   "cell_type": "code",
   "execution_count": 19,
   "metadata": {},
   "outputs": [
    {
     "name": "stdout",
     "output_type": "stream",
     "text": [
      "CPU times: user 205 µs, sys: 13 µs, total: 218 µs\n",
      "Wall time: 19.1 µs\n",
      "              precision    recall  f1-score   support\n",
      "\n",
      "       Sport     0.9981    0.9945    0.9963     51933\n",
      "    Americas     0.9982    0.9971    0.9976     52489\n",
      "      Europe     0.9968    0.9975    0.9972     62053\n",
      "    Mid_East     0.9975    0.9972    0.9974     55378\n",
      "     Economy     0.9982    0.9957    0.9970     56795\n",
      "    Politics     0.9985    0.9994    0.9990     55829\n",
      "    Military     0.9991    0.9984    0.9988     55423\n",
      "        Life     0.9971    0.9982    0.9976     55428\n",
      "   Companies     0.9964    0.9991    0.9978     55755\n",
      "   SouthAsia     0.9976    0.9993    0.9984     81984\n",
      "\n",
      "    accuracy                         0.9977    583067\n",
      "   macro avg     0.9978    0.9976    0.9977    583067\n",
      "weighted avg     0.9977    0.9977    0.9977    583067\n",
      "\n"
     ]
    }
   ],
   "source": [
    "%time\n",
    "predicted_2 = SGDClassifier_pipline.predict(X_test)\n",
    "print(classification_report(y_test, predicted_2, digits=4, target_names=category_name))"
   ]
  },
  {
   "cell_type": "code",
   "execution_count": 20,
   "metadata": {},
   "outputs": [
    {
     "data": {
      "image/png": "[encoded data removed]",
      "text/plain": [
       "<Figure size 1080x1080 with 2 Axes>"
      ]
     },
     "metadata": {
      "needs_background": "light"
     },
     "output_type": "display_data"
    }
   ],
   "source": [
    "# calculate confusion_matrix and plot it\n",
    "confusion_mat_2 = confusion_matrix(y_test, predicted_2)\n",
    "fig, ax = plt.subplots(figsize=(15, 15))\n",
    "sns.heatmap(confusion_mat_2,\n",
    "            annot=True,\n",
    "            fmt='d',\n",
    "            cmap=\"RdPu\",\n",
    "            linewidths=.3,\n",
    "            xticklabels=category_name,\n",
    "            yticklabels=category_name)\n",
    "plt.ylabel('Actual')\n",
    "plt.xlabel('Predicted')\n",
    "plt.show()"
   ]
  },
  {
   "cell_type": "markdown",
   "metadata": {},
   "source": [
    "## Grid Search"
   ]
  },
  {
   "cell_type": "code",
   "execution_count": 1,
   "metadata": {},
   "outputs": [],
   "source": [
    "%time\n",
    "from sklearn.model_selection import GridSearchCV\n",
    "from  sklearn.model_selection import RandomizedSearchCV\n",
    "\n",
    "bayes_params = {\n",
    "#     'Vectorizer__ngram_range': [(1, 1), (1, 2), (1, 3)],\n",
    "#     'TF_IDF__use_idf': (True, False),\n",
    "    'MultinomialNB__alpha': (1e-3, 1e-4, 1e-5),\n",
    "    'MultinomialNB__fit_prior' : (True, False),\n",
    "}\n",
    "\n",
    "grid = GridSearchCV(multinomialNB_pipeline, bayes_params, cv=5, iid=False, n_jobs=25)\n",
    "# grid = RandomizedSearchCV(multinomialNB_pipeline, bayes_params, cv=5, iid=False, refit=True, n_jobs=25)\n",
    "grid.fit(X_train, y_train)\n",
    "# summarize the results of the grid search\n",
    "print(grid.best_score_)\n",
    "print(grid.best_params_)\n",
    "print(grid.best_estimator_)"
   ]
  },
  {
   "cell_type": "code",
   "execution_count": 2,
   "metadata": {},
   "outputs": [],
   "source": [
    "%time\n",
    "svm_params = {\n",
    "#     'Vectorizer__ngram_range': [(1, 2), (1, 3), (1, 4)],\n",
    "#     'TF_IDF__use_idf': (True, False),\n",
    "#     'SGDClassifier__loss': ('hinge', 'squared_hinge'),\n",
    "#     'SGDClassifier__penalty': ('l2', 'elasticnet'),\n",
    "    'SGDClassifier__alpha': (1e-4, 1e-5, 1e-6, 1e-7),\n",
    "#     'SGDClassifier__power_t': (0.4, 0.5, 0.6)\n",
    "}\n",
    "\n",
    "# grid = GridSearchCV(SGDClassifier_pipline, svm_params, cv=5, iid=False, refit=True ,n_jobs=25)\n",
    "grid = RandomizedSearchCV(SGDClassifier_pipline, svm_params, cv=5, iid=False, refit=True, n_jobs=25)\n",
    "grid.fit(X_train, y_train)\n",
    "# summarize the results of the grid search\n",
    "print(grid.best_score_)\n",
    "print(grid.best_params_)\n",
    "print(grid.best_estimator_)"
   ]
  },
  {
   "cell_type": "markdown",
   "metadata": {},
   "source": [
    "## 模型持久化"
   ]
  },
  {
   "cell_type": "code",
   "execution_count": 27,
   "metadata": {},
   "outputs": [
    {
     "name": "stderr",
     "output_type": "stream",
     "text": [
      "/usr/local/lib/python3.6/dist-packages/sklearn/externals/joblib/__init__.py:15: DeprecationWarning: sklearn.externals.joblib is deprecated in 0.21 and will be removed in 0.23. Please import this functionality directly from joblib, which can be installed with: pip install joblib. If this warning is raised when loading pickled models, you may need to re-serialize those models with scikit-learn 0.21+.\n",
      "  warnings.warn(msg, category=DeprecationWarning)\n"
     ]
    }
   ],
   "source": [
    "from sklearn.externals import joblib\n",
    "\n",
    "joblib.dump(multinomialNB_pipeline, 'multinomialNB_pipeline.pkl') \n",
    "multinomialNB_pipeline = joblib.load('multinomialNB_pipeline.pkl') "
   ]
  },
  {
   "cell_type": "code",
   "execution_count": 28,
   "metadata": {},
   "outputs": [],
   "source": [
    "from sklearn.externals import joblib\n",
    "\n",
    "joblib.dump(SGDClassifier_pipline, 'SGDClassifier_pipline.pkl') \n",
    "SGDClassifier_pipline = joblib.load('SGDClassifier_pipline.pkl') "
   ]
  },
  {
   "cell_type": "code",
   "execution_count": null,
   "metadata": {},
   "outputs": [],
   "source": []
  }
 ],
 "metadata": {
  "celltoolbar": "Raw Cell Format",
  "kernelspec": {
   "display_name": "Python 3",
   "language": "python",
   "name": "python3"
  },
  "language_info": {
   "codemirror_mode": {
    "name": "ipython",
    "version": 3
   },
   "file_extension": ".py",
   "mimetype": "text/x-python",
   "name": "python",
   "nbconvert_exporter": "python",
   "pygments_lexer": "ipython3",
   "version": "3.6.8"
  }
 },
 "nbformat": 4,
 "nbformat_minor": 2
}
